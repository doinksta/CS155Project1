{
 "cells": [
  {
   "cell_type": "code",
   "execution_count": 1,
   "metadata": {},
   "outputs": [],
   "source": [
    "import numpy as np\n",
    "import pandas as pd\n",
    "from sklearn import preprocessing\n",
    "from sklearn.model_selection import train_test_split"
   ]
  },
  {
   "cell_type": "code",
   "execution_count": 2,
   "metadata": {},
   "outputs": [],
   "source": [
    "def fiddle(csv_list):\n",
    "    ids = None\n",
    "    targets = []\n",
    "    for csv_name in csv_list:\n",
    "        df = pd.read_csv(csv_name)\n",
    "        x = df['id'].values\n",
    "        y = df['target'].values\n",
    "        ids = x\n",
    "        targets.append(y)\n",
    "        print(len(y))\n",
    "    \n",
    "    predictions = []\n",
    "        \n",
    "    for i in range(len(targets[0])):\n",
    "        strong_neg = []\n",
    "        strong_pos = []\n",
    "        weak_neg = []\n",
    "        weak_pos = []\n",
    "        \n",
    "        for target in targets:\n",
    "            val = target[i]\n",
    "            if val < 0.3:\n",
    "                strong_neg.append(val)\n",
    "            elif val < 0.5:\n",
    "                weak_neg.append(val)\n",
    "            elif val < 0.7:\n",
    "                weak_pos.append(val)\n",
    "            else:\n",
    "                strong_pos.append(val)\n",
    "#         print(strong_neg)\n",
    "#         print(weak_neg)\n",
    "#         print(weak_pos)\n",
    "#         print(strong_pos)\n",
    "#         print(\"\\n\")\n",
    "        agg = []\n",
    "        for a in strong_neg:\n",
    "            agg.append(a)\n",
    "        for a in strong_pos:\n",
    "            agg.append(a)\n",
    "        for a in weak_neg:\n",
    "            agg.append(a)\n",
    "        for a in weak_pos:\n",
    "            agg.append(a)\n",
    "\n",
    "        \n",
    "        if (len(strong_neg) + len(weak_neg) == 0):\n",
    "            predictions.append(min(agg))\n",
    "        elif (len(strong_pos) + len(weak_pos) == 0):\n",
    "            predictions.append(max(agg))\n",
    "#         elif (len(strong_neg) == 0 and len(strong_pos) == 1):\n",
    "#             predictions.append(strong_pos[0])\n",
    "#         elif (len(strong_pos) == 0 and len(strong_neg) == 1):\n",
    "#             predictions.append(strong_neg[0])\n",
    "        else:                \n",
    "            predictions.append(sum(agg) / 2)\n",
    "            \n",
    "    print(len(predictions))\n",
    "        \n",
    "        \n",
    "    df = pd.DataFrame()\n",
    "    df['id'] = ids\n",
    "    df['target'] = predictions\n",
    "    df.to_csv(\"submissions/hack.csv\", index=False)"
   ]
  },
  {
   "cell_type": "code",
   "execution_count": 3,
   "metadata": {},
   "outputs": [
    {
     "name": "stdout",
     "output_type": "stream",
     "text": [
      "16000\n",
      "16000\n",
      "16000\n"
     ]
    }
   ],
   "source": [
    "lst = [\"submissions/neural_net_v2_ 0.78559.csv\", \"submissions/5th_submission_xgboost.csv\"]\n",
    "fiddle(lst)"
   ]
  },
  {
   "cell_type": "code",
   "execution_count": null,
   "metadata": {},
   "outputs": [],
   "source": []
  }
 ],
 "metadata": {
  "kernelspec": {
   "display_name": "Python 3",
   "language": "python",
   "name": "python3"
  },
  "language_info": {
   "codemirror_mode": {
    "name": "ipython",
    "version": 3
   },
   "file_extension": ".py",
   "mimetype": "text/x-python",
   "name": "python",
   "nbconvert_exporter": "python",
   "pygments_lexer": "ipython3",
   "version": "3.6.4"
  }
 },
 "nbformat": 4,
 "nbformat_minor": 2
}
