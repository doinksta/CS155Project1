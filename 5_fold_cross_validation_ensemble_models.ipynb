{
 "cells": [
  {
   "cell_type": "code",
   "execution_count": 1,
   "metadata": {
    "collapsed": true
   },
   "outputs": [],
   "source": [
    "import numpy as np\n",
    "import pandas as pd\n",
    "import matplotlib.pyplot as plt\n",
    "from sklearn.model_selection import train_test_split\n",
    "from sklearn.model_selection import cross_validate\n",
    "from sklearn.metrics import roc_auc_score\n",
    "import pickle"
   ]
  },
  {
   "cell_type": "code",
   "execution_count": 10,
   "metadata": {
    "collapsed": true
   },
   "outputs": [],
   "source": [
    "def get_metrics(model, axis, preprocessed_test=None):\n",
    "    prob_preds = model.predict_proba(x_train)\n",
    "    performance = roc_auc_score(y_train, prob_preds[:, axis])\n",
    "    print \"TRAINING: \" + str(performance)\n",
    "    \n",
    "    prob_preds = model.predict_proba(x_test)\n",
    "    performance = roc_auc_score(y_test, prob_preds[:, axis])\n",
    "    print \"TEST: \" + str(performance)\n",
    "\n",
    "def load_model(filename):\n",
    "    with open(filename, 'rb') as f:\n",
    "        clf = pickle.load(f)\n",
    "        return clf"
   ]
  },
  {
   "cell_type": "code",
   "execution_count": 11,
   "metadata": {
    "collapsed": true
   },
   "outputs": [],
   "source": [
    "x = np.load(\"data/x_normalized.npy\")\n",
    "y = np.load(\"data/y.npy\")"
   ]
  },
  {
   "cell_type": "code",
   "execution_count": 12,
   "metadata": {},
   "outputs": [],
   "source": [
    "xgb_model = load_model(\"hehe/best_xgboost.pkl\")\n",
    "lgb_model = load_model(\"hehe/best_lgb.pkl\")\n",
    "rf_model = load_model(\"hehe/best_random_forest.pkl\")"
   ]
  },
  {
   "cell_type": "code",
   "execution_count": 17,
   "metadata": {},
   "outputs": [],
   "source": [
    "scores_rf_model = cross_validate(rf_model, x, y, cv=5, scoring='roc_auc')"
   ]
  },
  {
   "cell_type": "code",
   "execution_count": 18,
   "metadata": {},
   "outputs": [
    {
     "name": "stderr",
     "output_type": "stream",
     "text": [
      "/anaconda/lib/python2.7/site-packages/sklearn/utils/deprecation.py:122: FutureWarning: You are accessing a training score ('train_score'), which will not be available by default any more in 0.21. If you need training scores, please set return_train_score=True\n",
      "  warnings.warn(*warn_args, **warn_kwargs)\n"
     ]
    },
    {
     "data": {
      "text/plain": [
       "{'fit_time': array([1.88545895, 1.89119697, 1.67898583, 1.79942489, 1.85126185]),\n",
       " 'score_time': array([0.03788805, 0.04216003, 0.03880215, 0.04025006, 0.03554916]),\n",
       " 'test_score': array([0.76130897, 0.75500872, 0.76302202, 0.75968672, 0.75700196]),\n",
       " 'train_score': array([0.80462147, 0.80629781, 0.80479571, 0.80464474, 0.8052178 ])}"
      ]
     },
     "execution_count": 18,
     "metadata": {},
     "output_type": "execute_result"
    }
   ],
   "source": [
    "scores_rf_model"
   ]
  },
  {
   "cell_type": "code",
   "execution_count": 20,
   "metadata": {},
   "outputs": [],
   "source": [
    "scores_xgb_model = cross_validate(xgb_model, x, y, cv=5, scoring='roc_auc')"
   ]
  },
  {
   "cell_type": "code",
   "execution_count": 21,
   "metadata": {},
   "outputs": [
    {
     "data": {
      "text/plain": [
       "{'fit_time': array([324.54364204, 362.00040007, 346.43885899, 286.06302309,\n",
       "        238.50701213]),\n",
       " 'score_time': array([2.51468587, 1.73741698, 1.87081194, 1.91700387, 1.56821489]),\n",
       " 'test_score': array([0.79141458, 0.7926594 , 0.79719538, 0.79730856, 0.78938298]),\n",
       " 'train_score': array([0.98831081, 0.98767835, 0.98851859, 0.9886445 , 0.98801981])}"
      ]
     },
     "execution_count": 21,
     "metadata": {},
     "output_type": "execute_result"
    }
   ],
   "source": [
    "scores_xgb_model"
   ]
  },
  {
   "cell_type": "code",
   "execution_count": 22,
   "metadata": {
    "collapsed": true
   },
   "outputs": [],
   "source": [
    "scores_lgb_model = cross_validate(lgb_model, x, y, cv=5, scoring='roc_auc')"
   ]
  },
  {
   "cell_type": "code",
   "execution_count": 23,
   "metadata": {},
   "outputs": [
    {
     "data": {
      "text/plain": [
       "{'fit_time': array([272.13068604, 278.213691  , 281.23058414, 285.9958601 ,\n",
       "        266.93188   ]),\n",
       " 'score_time': array([0.4865911 , 0.47778392, 0.57815599, 0.47509885, 0.46896601]),\n",
       " 'test_score': array([0.79248537, 0.79202105, 0.79841025, 0.79796367, 0.78800367]),\n",
       " 'train_score': array([0.90988838, 0.90736406, 0.90812521, 0.90993691, 0.91267577])}"
      ]
     },
     "execution_count": 23,
     "metadata": {},
     "output_type": "execute_result"
    }
   ],
   "source": [
    "scores_lgb_model"
   ]
  },
  {
   "cell_type": "code",
   "execution_count": 26,
   "metadata": {},
   "outputs": [
    {
     "name": "stdout",
     "output_type": "stream",
     "text": [
      "XGB MODEL AVG VALIDATION ROC AUC: 0.7935921798249105\n",
      "Light GBM MODEL AVG VALIDATION ROC AUC: 0.7937768011351808\n",
      "Random Forest MODEL AVG VALIDATION ROC AUC: 0.7592056757156117\n"
     ]
    }
   ],
   "source": [
    "print \"XGB MODEL AVG VALIDATION ROC AUC: \" + str(np.mean(scores_xgb_model['test_score']))\n",
    "print \"Light GBM MODEL AVG VALIDATION ROC AUC: \" + str(np.mean(scores_lgb_model['test_score']))\n",
    "print \"Random Forest MODEL AVG VALIDATION ROC AUC: \" + str(np.mean(scores_rf_model['test_score']))"
   ]
  },
  {
   "cell_type": "markdown",
   "metadata": {},
   "source": [
    "# trying to evaluate stacked models"
   ]
  },
  {
   "cell_type": "code",
   "execution_count": null,
   "metadata": {
    "collapsed": true
   },
   "outputs": [],
   "source": []
  }
 ],
 "metadata": {
  "kernelspec": {
   "display_name": "Python 2",
   "language": "python",
   "name": "python2"
  },
  "language_info": {
   "codemirror_mode": {
    "name": "ipython",
    "version": 2
   },
   "file_extension": ".py",
   "mimetype": "text/x-python",
   "name": "python",
   "nbconvert_exporter": "python",
   "pygments_lexer": "ipython2",
   "version": "2.7.15"
  }
 },
 "nbformat": 4,
 "nbformat_minor": 2
}
