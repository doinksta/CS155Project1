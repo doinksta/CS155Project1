{
 "cells": [
  {
   "cell_type": "code",
   "execution_count": 7,
   "metadata": {
    "collapsed": true
   },
   "outputs": [],
   "source": [
    "import numpy as np\n",
    "import pandas as pd\n",
    "import matplotlib.pyplot as plt\n",
    "from sklearn.model_selection import train_test_split\n",
    "\n",
    "from sklearn.metrics import roc_auc_score\n",
    "import pickle"
   ]
  },
  {
   "cell_type": "code",
   "execution_count": 8,
   "metadata": {},
   "outputs": [],
   "source": [
    "def load_model(filename):\n",
    "    with open(filename, 'rb') as f:\n",
    "        clf = pickle.load(f)\n",
    "        return clf\n",
    "\n",
    "xgb_model = load_model(\"hehe/best_xgboost.pkl\")\n",
    "lgb_model = load_model(\"hehe/best_lgb.pkl\")\n",
    "rf_model = load_model(\"hehe/best_random_forest.pkl\")"
   ]
  },
  {
   "cell_type": "code",
   "execution_count": 9,
   "metadata": {
    "collapsed": true
   },
   "outputs": [],
   "source": [
    "x = np.load(\"data/x_normalized.npy\")\n",
    "y = np.load(\"data/y.npy\")"
   ]
  },
  {
   "cell_type": "code",
   "execution_count": 16,
   "metadata": {},
   "outputs": [
    {
     "name": "stdout",
     "output_type": "stream",
     "text": [
      "XGB MODEL SCORE: 0.9561886262681042\n"
     ]
    }
   ],
   "source": [
    "xgb_preds = xgb_model.predict_proba(x)[:, 1]\n",
    "performance = roc_auc_score(y, xgb_preds)\n",
    "print \"XGB MODEL SCORE: \" + str(performance)"
   ]
  },
  {
   "cell_type": "code",
   "execution_count": 17,
   "metadata": {},
   "outputs": [
    {
     "name": "stdout",
     "output_type": "stream",
     "text": [
      "LightGBM MODEL SCORE: 0.8885350706213049\n"
     ]
    }
   ],
   "source": [
    "lgb_preds = lgb_model.predict_proba(x)[:, 1]\n",
    "performance = roc_auc_score(y, lgb_preds)\n",
    "print \"LightGBM MODEL SCORE: \" + str(performance)"
   ]
  },
  {
   "cell_type": "code",
   "execution_count": 18,
   "metadata": {},
   "outputs": [
    {
     "name": "stdout",
     "output_type": "stream",
     "text": [
      "Random Forest MODEL SCORE: 0.7995491909588754\n"
     ]
    }
   ],
   "source": [
    "rf_preds = rf_model.predict_proba(x)[:, 1]\n",
    "performance = roc_auc_score(y, rf_preds)\n",
    "print \"Random Forest MODEL SCORE: \" + str(performance)"
   ]
  },
  {
   "cell_type": "code",
   "execution_count": 19,
   "metadata": {},
   "outputs": [
    {
     "name": "stdout",
     "output_type": "stream",
     "text": [
      "Stacked LightGBM + XGB MODEL SCORE: 0.9359757704397271\n"
     ]
    }
   ],
   "source": [
    "stacked_predictions = np.add(0.5*xgb_preds, 0.5*lgb_preds)\n",
    "\n",
    "# have to do this otherwise kaggle will not accept\n",
    "stacked_predictions[stacked_predictions < 0] = 0.0000001\n",
    "stacked_predictions[stacked_predictions > 1] = 0.9999999\n",
    "\n",
    "performance = roc_auc_score(y, stacked_predictions)\n",
    "print \"Stacked LightGBM + XGB MODEL SCORE: \" + str(performance)"
   ]
  },
  {
   "cell_type": "code",
   "execution_count": 20,
   "metadata": {},
   "outputs": [
    {
     "name": "stdout",
     "output_type": "stream",
     "text": [
      "Stacked Random Forest + XGB MODEL SCORE: 0.9307602849328123\n"
     ]
    }
   ],
   "source": [
    "stacked_predictions = np.add(0.5*xgb_preds, 0.5*rf_preds)\n",
    "\n",
    "# have to do this otherwise kaggle will not accept\n",
    "stacked_predictions[stacked_predictions < 0] = 0.0000001\n",
    "stacked_predictions[stacked_predictions > 1] = 0.9999999\n",
    "\n",
    "performance = roc_auc_score(y, stacked_predictions)\n",
    "print \"Stacked Random Forest + XGB MODEL SCORE: \" + str(performance)"
   ]
  },
  {
   "cell_type": "code",
   "execution_count": 22,
   "metadata": {},
   "outputs": [
    {
     "name": "stdout",
     "output_type": "stream",
     "text": [
      "Stacked Random Forest + LightGBM MODEL SCORE: 0.8644988354819687\n"
     ]
    }
   ],
   "source": [
    "stacked_predictions = np.add(0.5*rf_preds, 0.5*lgb_preds)\n",
    "\n",
    "# have to do this otherwise kaggle will not accept\n",
    "stacked_predictions[stacked_predictions < 0] = 0.0000001\n",
    "stacked_predictions[stacked_predictions > 1] = 0.9999999\n",
    "\n",
    "performance = roc_auc_score(y, stacked_predictions)\n",
    "print \"Stacked Random Forest + LightGBM MODEL SCORE: \" + str(performance)"
   ]
  },
  {
   "cell_type": "code",
   "execution_count": null,
   "metadata": {
    "collapsed": true
   },
   "outputs": [],
   "source": []
  }
 ],
 "metadata": {
  "kernelspec": {
   "display_name": "Python 2",
   "language": "python",
   "name": "python2"
  },
  "language_info": {
   "codemirror_mode": {
    "name": "ipython",
    "version": 2
   },
   "file_extension": ".py",
   "mimetype": "text/x-python",
   "name": "python",
   "nbconvert_exporter": "python",
   "pygments_lexer": "ipython2",
   "version": "2.7.15"
  }
 },
 "nbformat": 4,
 "nbformat_minor": 2
}
