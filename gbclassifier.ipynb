{
 "cells": [
  {
   "cell_type": "markdown",
   "metadata": {},
   "source": [
    "Alycia's attempt at gradient boosting classifier from scikit-learn ensemble models"
   ]
  },
  {
   "cell_type": "code",
   "execution_count": 16,
   "metadata": {},
   "outputs": [],
   "source": [
    "import numpy as np\n",
    "\n",
    "from sklearn import preprocessing\n",
    "from sklearn.ensemble import GradientBoostingClassifier\n",
    "from sklearn.externals import joblib\n",
    "from sklearn.model_selection import GridSearchCV\n",
    "from sklearn.model_selection import train_test_split\n",
    "import pandas as pd\n",
    "from sklearn.metrics import roc_auc_score"
   ]
  },
  {
   "cell_type": "code",
   "execution_count": 2,
   "metadata": {},
   "outputs": [
    {
     "name": "stderr",
     "output_type": "stream",
     "text": [
      "C:\\Users\\alyci\\AppData\\Local\\Continuum\\anaconda3\\lib\\site-packages\\sklearn\\utils\\validation.py:595: DataConversionWarning: Data with input dtype int64 was converted to float64 by MinMaxScaler.\n",
      "  warnings.warn(msg, DataConversionWarning)\n",
      "C:\\Users\\alyci\\AppData\\Local\\Continuum\\anaconda3\\lib\\site-packages\\sklearn\\utils\\validation.py:595: DataConversionWarning: Data with input dtype int64 was converted to float64 by MinMaxScaler.\n",
      "  warnings.warn(msg, DataConversionWarning)\n"
     ]
    }
   ],
   "source": [
    "x = np.load(\"data/x.npy\")\n",
    "y = np.load(\"data/y.npy\")\n",
    "min_max_scaler = preprocessing.MinMaxScaler()\n",
    "x_scaled = min_max_scaler.fit_transform(x)\n",
    "np.save(\"data/x_normalized.npy\", x_scaled)\n",
    "\n",
    "x_test = np.load(\"data/x_test.npy\")\n",
    "x_test_scaled = min_max_scaler.fit_transform(x_test)\n",
    "np.save(\"data/x_test_normalized.npy\", x_test_scaled)\n",
    "\n",
    "x_train, x_test, y_train, y_test = train_test_split(x_scaled, y, test_size=0.33, random_state=42)"
   ]
  },
  {
   "cell_type": "code",
   "execution_count": 3,
   "metadata": {},
   "outputs": [
    {
     "name": "stderr",
     "output_type": "stream",
     "text": [
      "C:\\Users\\alyci\\AppData\\Local\\Continuum\\anaconda3\\lib\\site-packages\\sklearn\\model_selection\\_split.py:2053: FutureWarning: You should specify a value for 'cv' instead of relying on the default value. The default value will change from 3 to 5 in version 0.22.\n",
      "  warnings.warn(CV_WARNING, FutureWarning)\n",
      "[Parallel(n_jobs=4)]: Using backend LokyBackend with 4 concurrent workers.\n"
     ]
    },
    {
     "name": "stdout",
     "output_type": "stream",
     "text": [
      "Fitting 3 folds for each of 240 candidates, totalling 720 fits\n"
     ]
    },
    {
     "name": "stderr",
     "output_type": "stream",
     "text": [
      "[Parallel(n_jobs=4)]: Done  33 tasks      | elapsed:  2.9min\n",
      "[Parallel(n_jobs=4)]: Done 154 tasks      | elapsed: 772.5min\n",
      "[Parallel(n_jobs=4)]: Done 357 tasks      | elapsed: 941.3min\n",
      "[Parallel(n_jobs=4)]: Done 640 tasks      | elapsed: 1147.0min\n",
      "[Parallel(n_jobs=4)]: Done 720 out of 720 | elapsed: 1213.7min finished\n"
     ]
    },
    {
     "name": "stdout",
     "output_type": "stream",
     "text": [
      "Rank: \n"
     ]
    },
    {
     "ename": "NameError",
     "evalue": "name 'results' is not defined",
     "output_type": "error",
     "traceback": [
      "\u001b[1;31m---------------------------------------------------------------------------\u001b[0m",
      "\u001b[1;31mNameError\u001b[0m                                 Traceback (most recent call last)",
      "\u001b[1;32m<ipython-input-3-f8d45e96df30>\u001b[0m in \u001b[0;36m<module>\u001b[1;34m\u001b[0m\n\u001b[0;32m     18\u001b[0m         \u001b[0mprint\u001b[0m\u001b[1;33m(\u001b[0m\u001b[1;34m\"Rank: \"\u001b[0m\u001b[1;33m.\u001b[0m\u001b[0mformat\u001b[0m\u001b[1;33m(\u001b[0m\u001b[0mi\u001b[0m\u001b[1;33m)\u001b[0m\u001b[1;33m)\u001b[0m\u001b[1;33m\u001b[0m\u001b[1;33m\u001b[0m\u001b[0m\n\u001b[0;32m     19\u001b[0m         print(\"Mean validation score: {0:.5f} (std: {1:.5f})\".format(\n\u001b[1;32m---> 20\u001b[1;33m               \u001b[0mresults\u001b[0m\u001b[1;33m[\u001b[0m\u001b[1;34m'mean_test_score'\u001b[0m\u001b[1;33m]\u001b[0m\u001b[1;33m[\u001b[0m\u001b[0mm\u001b[0m\u001b[1;33m]\u001b[0m\u001b[1;33m,\u001b[0m\u001b[1;33m\u001b[0m\u001b[1;33m\u001b[0m\u001b[0m\n\u001b[0m\u001b[0;32m     21\u001b[0m               results['std_test_score'][m]))\n\u001b[0;32m     22\u001b[0m         \u001b[0mprint\u001b[0m\u001b[1;33m(\u001b[0m\u001b[1;34m\"Parameters: \"\u001b[0m \u001b[1;33m+\u001b[0m \u001b[0mstr\u001b[0m\u001b[1;33m(\u001b[0m\u001b[0mresults\u001b[0m\u001b[1;33m[\u001b[0m\u001b[1;34m'params'\u001b[0m\u001b[1;33m]\u001b[0m\u001b[1;33m[\u001b[0m\u001b[0mm\u001b[0m\u001b[1;33m]\u001b[0m\u001b[1;33m)\u001b[0m\u001b[1;33m)\u001b[0m\u001b[1;33m\u001b[0m\u001b[1;33m\u001b[0m\u001b[0m\n",
      "\u001b[1;31mNameError\u001b[0m: name 'results' is not defined"
     ]
    }
   ],
   "source": [
    "params = {'learning_rate': [0.01, 0.05, 0.1, 0.25, 0.5], 'max_depth': [2, 5, 10, 15],\n",
    "'subsample': [0.8, 0.85, 0.9], 'max_features': [20, 50, 100, 150]}\n",
    "\n",
    "gbclass = GradientBoostingClassifier()\n",
    "clf = GridSearchCV(gbclass, scoring='accuracy', param_grid=params, n_jobs=4, verbose=2)\n",
    "clf.fit(x_train, y_train)"
   ]
  },
  {
   "cell_type": "code",
   "execution_count": 5,
   "metadata": {},
   "outputs": [
    {
     "name": "stdout",
     "output_type": "stream",
     "text": [
      "Rank: \n",
      "Mean validation score: 0.78290 (std: 0.00113)\n",
      "Parameters: {'learning_rate': 0.1, 'max_depth': 5, 'max_features': 150, 'subsample': 0.8}\n",
      "\n",
      "Rank: \n",
      "Mean validation score: 0.78205 (std: 0.00111)\n",
      "Parameters: {'learning_rate': 0.1, 'max_depth': 5, 'max_features': 100, 'subsample': 0.9}\n",
      "\n",
      "Rank: \n",
      "Mean validation score: 0.78191 (std: 0.00154)\n",
      "Parameters: {'learning_rate': 0.05, 'max_depth': 10, 'max_features': 100, 'subsample': 0.9}\n",
      "\n",
      "Rank: \n",
      "Mean validation score: 0.78179 (std: 0.00083)\n",
      "Parameters: {'learning_rate': 0.1, 'max_depth': 5, 'max_features': 50, 'subsample': 0.8}\n",
      "\n",
      "Rank: \n",
      "Mean validation score: 0.78166 (std: 0.00196)\n",
      "Parameters: {'learning_rate': 0.05, 'max_depth': 5, 'max_features': 150, 'subsample': 0.9}\n",
      "\n",
      "Rank: \n",
      "Mean validation score: 0.78166 (std: 0.00097)\n",
      "Parameters: {'learning_rate': 0.1, 'max_depth': 5, 'max_features': 150, 'subsample': 0.85}\n",
      "\n",
      "Rank: \n",
      "Mean validation score: 0.78156 (std: 0.00057)\n",
      "Parameters: {'learning_rate': 0.1, 'max_depth': 5, 'max_features': 100, 'subsample': 0.85}\n",
      "\n",
      "Rank: \n",
      "Mean validation score: 0.78145 (std: 0.00095)\n",
      "Parameters: {'learning_rate': 0.1, 'max_depth': 5, 'max_features': 20, 'subsample': 0.9}\n",
      "\n",
      "Rank: \n",
      "Mean validation score: 0.78124 (std: 0.00181)\n",
      "Parameters: {'learning_rate': 0.05, 'max_depth': 5, 'max_features': 100, 'subsample': 0.85}\n",
      "\n",
      "Rank: \n",
      "Mean validation score: 0.78119 (std: 0.00163)\n",
      "Parameters: {'learning_rate': 0.05, 'max_depth': 5, 'max_features': 150, 'subsample': 0.8}\n",
      "\n",
      "Best Error: 0.7829017218298481\n",
      "Best Model: {'learning_rate': 0.1, 'max_depth': 5, 'max_features': 150, 'subsample': 0.8}\n"
     ]
    }
   ],
   "source": [
    "# output top 10 models\n",
    "for i in range(1, 11):\n",
    "    models = np.flatnonzero(clf.cv_results_['rank_test_score']==i)\n",
    "    for m in models:\n",
    "        print(\"Rank: \".format(i))\n",
    "        print(\"Mean validation score: {0:.5f} (std: {1:.5f})\".format(\n",
    "              clf.cv_results_['mean_test_score'][m],\n",
    "              clf.cv_results_['std_test_score'][m]))\n",
    "        print(\"Parameters: \" + str(clf.cv_results_['params'][m]) + '\\n')\n",
    "\n",
    "print('Best Error: ' + str(clf.best_score_))\n",
    "print('Best Model: ' + str(clf.best_params_))"
   ]
  },
  {
   "cell_type": "code",
   "execution_count": 6,
   "metadata": {},
   "outputs": [],
   "source": [
    "def generate_csv(model, x_data, name):\n",
    "    ids = [i for i, _ in enumerate(x_data)]\n",
    "    ids = np.array(ids)\n",
    "    \n",
    "    predictions = model.predict(x_data).flatten()\n",
    "    \n",
    "    df = pd.DataFrame()\n",
    "    df['id'] = ids\n",
    "    df['target'] = predictions\n",
    "    df.to_csv(name + \".csv\", index=False)"
   ]
  },
  {
   "cell_type": "code",
   "execution_count": 7,
   "metadata": {},
   "outputs": [],
   "source": [
    "clf = GradientBoostingClassifier(learning_rate=0.1, max_depth=5, \n",
    "                                 subsample=0.8, max_features=150)\n",
    "\n",
    "#learning_rate': 0.1, 'max_depth': 5, 'max_features': 150, 'subsample': 0.8"
   ]
  },
  {
   "cell_type": "code",
   "execution_count": null,
   "metadata": {},
   "outputs": [],
   "source": [
    "y_train = np.load(\"data/y.npy)"
   ]
  },
  {
   "cell_type": "code",
   "execution_count": 14,
   "metadata": {},
   "outputs": [
    {
     "data": {
      "text/plain": [
       "GradientBoostingClassifier(criterion='friedman_mse', init=None,\n",
       "              learning_rate=0.1, loss='deviance', max_depth=5,\n",
       "              max_features=150, max_leaf_nodes=None,\n",
       "              min_impurity_decrease=0.0, min_impurity_split=None,\n",
       "              min_samples_leaf=1, min_samples_split=2,\n",
       "              min_weight_fraction_leaf=0.0, n_estimators=100,\n",
       "              n_iter_no_change=None, presort='auto', random_state=None,\n",
       "              subsample=0.8, tol=0.0001, validation_fraction=0.1,\n",
       "              verbose=0, warm_start=False)"
      ]
     },
     "execution_count": 14,
     "metadata": {},
     "output_type": "execute_result"
    }
   ],
   "source": [
    "clf.fit(x_scaled, y)"
   ]
  },
  {
   "cell_type": "code",
   "execution_count": null,
   "metadata": {},
   "outputs": [],
   "source": [
    "predictions = clf.predict(x_test)"
   ]
  },
  {
   "cell_type": "code",
   "execution_count": 15,
   "metadata": {},
   "outputs": [
    {
     "name": "stdout",
     "output_type": "stream",
     "text": [
      "0.8020628759645568\n"
     ]
    }
   ],
   "source": [
    "print(clf.score(x_scaled, y))"
   ]
  },
  {
   "cell_type": "code",
   "execution_count": 17,
   "metadata": {},
   "outputs": [
    {
     "name": "stdout",
     "output_type": "stream",
     "text": [
      "0.8195007639799631\n"
     ]
    }
   ],
   "source": [
    "from sklearn.metrics import roc_auc_score\n",
    "prob_preds = clf.predict_proba(x_scaled)\n",
    "performance = roc_auc_score(y, prob_preds[:, 1])\n",
    "print(performance)"
   ]
  },
  {
   "cell_type": "code",
   "execution_count": null,
   "metadata": {},
   "outputs": [],
   "source": [
    "print(clf.score(x_test, y_test))"
   ]
  },
  {
   "cell_type": "code",
   "execution_count": 19,
   "metadata": {},
   "outputs": [],
   "source": [
    "x_test = np.load(\"data/x_test.npy\")\n",
    "generate_csv(clf, x_test, \"submissions/gbclassifier2\")"
   ]
  },
  {
   "cell_type": "code",
   "execution_count": null,
   "metadata": {},
   "outputs": [],
   "source": []
  }
 ],
 "metadata": {
  "kernelspec": {
   "display_name": "Python 3",
   "language": "python",
   "name": "python3"
  },
  "language_info": {
   "codemirror_mode": {
    "name": "ipython",
    "version": 3
   },
   "file_extension": ".py",
   "mimetype": "text/x-python",
   "name": "python",
   "nbconvert_exporter": "python",
   "pygments_lexer": "ipython3",
   "version": "3.6.8"
  }
 },
 "nbformat": 4,
 "nbformat_minor": 2
}
