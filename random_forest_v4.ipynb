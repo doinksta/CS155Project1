{
 "cells": [
  {
   "cell_type": "code",
   "execution_count": 2,
   "metadata": {},
   "outputs": [],
   "source": [
    "from sklearn.linear_model import LogisticRegression\n",
    "import numpy as np\n",
    "\n",
    "import numpy as np\n",
    "import pandas as pd\n",
    "import matplotlib.pyplot as plt\n",
    "from sklearn.model_selection import train_test_split\n",
    "import lightgbm as lgb\n",
    "from sklearn.metrics import roc_auc_score\n",
    "import pickle\n"
   ]
  },
  {
   "cell_type": "code",
   "execution_count": 3,
   "metadata": {
    "collapsed": true
   },
   "outputs": [],
   "source": [
    "new_x_train = np.load(\"hehe/new_x_train_v2.npy\")\n",
    "y_train = np.load(\"hehe/y_train.npy\")\n",
    "new_x_test = np.load(\"hehe/new_x_test_v2.npy\")\n",
    "y_test = np.load(\"hehe/y_test.npy\")"
   ]
  },
  {
   "cell_type": "code",
   "execution_count": 4,
   "metadata": {},
   "outputs": [
    {
     "name": "stdout",
     "output_type": "stream",
     "text": [
      "0.9987758277009018\n",
      "0.74177194826034\n",
      "[[ 33.76768064  -8.5699916  -14.03948383]]\n"
     ]
    }
   ],
   "source": [
    "model = LogisticRegression()\n",
    "model.fit(new_x_train, y_train)\n",
    "\n",
    "y_pred = model.predict_proba(new_x_train)[:, 1]\n",
    "performance = roc_auc_score(y_train, y_pred)\n",
    "print performance\n",
    "\n",
    "y_pred = model.predict_proba(new_x_test)[:, 1]\n",
    "performance = roc_auc_score(y_test, y_pred)\n",
    "print performance\n",
    "\n",
    "print model.coef_"
   ]
  },
  {
   "cell_type": "code",
   "execution_count": 78,
   "metadata": {},
   "outputs": [
    {
     "name": "stdout",
     "output_type": "stream",
     "text": [
      "0.9882494855427814\n",
      "0.7960648632304121\n"
     ]
    }
   ],
   "source": [
    "from sklearn.ensemble import RandomForestClassifier\n",
    "model = RandomForestClassifier(max_depth=10, min_samples_leaf=2, min_samples_split=10, random_state=0, verbose=False)\n",
    "model.fit(new_x_train, y_train)\n",
    "y_pred = model.predict_proba(new_x_train)[:, 1]\n",
    "performance = roc_auc_score(y_train, y_pred)\n",
    "print performance\n",
    "\n",
    "y_pred = model.predict_proba(new_x_test)[:, 1]\n",
    "performance = roc_auc_score(y_test, y_pred)\n",
    "print performance"
   ]
  },
  {
   "cell_type": "code",
   "execution_count": 137,
   "metadata": {},
   "outputs": [
    {
     "data": {
      "text/plain": [
       "(12934, 3)"
      ]
     },
     "execution_count": 137,
     "metadata": {},
     "output_type": "execute_result"
    }
   ],
   "source": [
    "new_x_test.shape"
   ]
  },
  {
   "cell_type": "code",
   "execution_count": 259,
   "metadata": {
    "collapsed": true
   },
   "outputs": [],
   "source": [
    "new_predictions = np.add(0.3*new_x_test[:, 0], 0.3333333*new_x_test[:, 1], 0.3333*new_x_test[:, 2])"
   ]
  },
  {
   "cell_type": "code",
   "execution_count": 260,
   "metadata": {},
   "outputs": [
    {
     "data": {
      "text/plain": [
       "array([0.40519908, 0.08843412, 0.4525867 , ..., 0.02705977, 0.14576112,\n",
       "       0.15932251])"
      ]
     },
     "execution_count": 260,
     "metadata": {},
     "output_type": "execute_result"
    }
   ],
   "source": [
    "new_predictions"
   ]
  },
  {
   "cell_type": "code",
   "execution_count": 261,
   "metadata": {},
   "outputs": [
    {
     "data": {
      "text/plain": [
       "0.8010749830321018"
      ]
     },
     "execution_count": 261,
     "metadata": {},
     "output_type": "execute_result"
    }
   ],
   "source": [
    "roc_auc_score(y_test, new_predictions)"
   ]
  },
  {
   "cell_type": "code",
   "execution_count": null,
   "metadata": {
    "collapsed": true
   },
   "outputs": [],
   "source": []
  },
  {
   "cell_type": "code",
   "execution_count": 185,
   "metadata": {},
   "outputs": [
    {
     "data": {
      "text/plain": [
       "array([0.70983554, 0.14725949, 0.79581425, ..., 0.04746725, 0.24816099,\n",
       "       0.27411317])"
      ]
     },
     "execution_count": 185,
     "metadata": {},
     "output_type": "execute_result"
    }
   ],
   "source": [
    "new_predictions"
   ]
  },
  {
   "cell_type": "code",
   "execution_count": 117,
   "metadata": {},
   "outputs": [
    {
     "data": {
      "text/plain": [
       "0.801069733053922"
      ]
     },
     "execution_count": 117,
     "metadata": {},
     "output_type": "execute_result"
    }
   ],
   "source": [
    "def ensemble(predictions_1, predictions_2):\n",
    "    # should be same size\n",
    "    new_predictions = []\n",
    "    for i, _ in enumerate(predictions_1):\n",
    "        pred1 = predictions_1[i]\n",
    "        pred2 = predictions_2[i]\n",
    "        if pred1 < 0.5 and pred2 < 0.5:\n",
    "            # THIS CASE HAPPENS THE MOT\n",
    "            new_predictions.append(0.5*pred1 + 0.5*pred2)\n",
    "        elif pred1 > 0.5 and pred2 > 0.5:\n",
    "            new_predictions.append(0.5*pred1 + 0.5*pred2)\n",
    "        else:\n",
    "            new_predictions.append(0.5*pred1 + 0.5*pred2)\n",
    "#         new_predictions.append(0.5*pred1 + 0.5*pred2)\n",
    "    new_predictions = np.array(new_predictions)\n",
    "    return new_predictions\n",
    "\n",
    "test_predictions = ensemble(new_x_test[:, 0], new_x_test[:, 1])\n",
    "roc_auc_score(y_test, test_predictions)"
   ]
  },
  {
   "cell_type": "code",
   "execution_count": null,
   "metadata": {
    "collapsed": true
   },
   "outputs": [],
   "source": []
  }
 ],
 "metadata": {
  "kernelspec": {
   "display_name": "Python 2",
   "language": "python",
   "name": "python2"
  },
  "language_info": {
   "codemirror_mode": {
    "name": "ipython",
    "version": 2
   },
   "file_extension": ".py",
   "mimetype": "text/x-python",
   "name": "python",
   "nbconvert_exporter": "python",
   "pygments_lexer": "ipython2",
   "version": "2.7.15"
  }
 },
 "nbformat": 4,
 "nbformat_minor": 2
}
