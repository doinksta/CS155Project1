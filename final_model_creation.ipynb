{
 "cells": [
  {
   "cell_type": "code",
   "execution_count": 2,
   "metadata": {
    "collapsed": true
   },
   "outputs": [],
   "source": [
    "import numpy as np\n",
    "import pandas as pd\n",
    "import matplotlib.pyplot as plt\n",
    "from sklearn.model_selection import train_test_split\n",
    "import lightgbm as lgb\n",
    "from sklearn.metrics import roc_auc_score\n",
    "from xgboost import XGBClassifier\n",
    "import pickle\n",
    "\n",
    "\n",
    "def get_metrics(model, axis, preprocessed_test=None):\n",
    "    prob_preds = model.predict_proba(x_train)\n",
    "    performance = roc_auc_score(y_train, prob_preds[:, axis])\n",
    "    print \"TRAINING: \" + str(performance)\n",
    "    \n",
    "    prob_preds = model.predict_proba(x_test)\n",
    "    performance = roc_auc_score(y_test, prob_preds[:, axis])\n",
    "    print \"TEST: \" + str(performance)"
   ]
  },
  {
   "cell_type": "code",
   "execution_count": 3,
   "metadata": {
    "collapsed": true
   },
   "outputs": [],
   "source": [
    "x = np.load(\"data/x_normalized.npy\")\n",
    "y = np.load(\"data/y.npy\")"
   ]
  },
  {
   "cell_type": "code",
   "execution_count": 4,
   "metadata": {},
   "outputs": [
    {
     "name": "stdout",
     "output_type": "stream",
     "text": [
      "0.9844128847809971\n"
     ]
    }
   ],
   "source": [
    "lgb_model = lgb.LGBMClassifier(boosting_type='dart',learning_rate=0.1, num_leaves=500, reg_alpha=0, min_child_samples=5, min_child_weight=1e-05, n_estimators=1000, reg_lambda=100, max_depth=15, dropout=0.7)\n",
    "lgb_model.fit(x, y, verbose=False)\n",
    "\n",
    "y_pred = lgb_model.predict_proba(x)[:, 1]\n",
    "performance = roc_auc_score(y, y_pred)\n",
    "print performance"
   ]
  },
  {
   "cell_type": "code",
   "execution_count": 5,
   "metadata": {},
   "outputs": [
    {
     "name": "stdout",
     "output_type": "stream",
     "text": [
      "0.9048556274793762\n"
     ]
    }
   ],
   "source": [
    "xgb_model = XGBClassifier(base_score=0.5, booster='gbtree', colsample_bylevel=1,\n",
    "       colsample_bytree=0.6, gamma=1, learning_rate=0.05, max_delta_step=0,\n",
    "       max_depth=10, min_child_weight=10, missing=None, n_estimators=200,\n",
    "       n_jobs=1, nthread=1, objective='binary:logistic', random_state=0,\n",
    "       reg_alpha=0, reg_lambda=1, scale_pos_weight=1, seed=None,\n",
    "       silent=True, subsample=0.8)\n",
    "xgb_model.fit(x, y)\n",
    "\n",
    "y_pred = xgb_model.predict_proba(x)[:, 1]\n",
    "performance = roc_auc_score(y, y_pred)\n",
    "print performance"
   ]
  },
  {
   "cell_type": "code",
   "execution_count": 15,
   "metadata": {},
   "outputs": [
    {
     "name": "stdout",
     "output_type": "stream",
     "text": [
      "   id    target\n",
      "0   0  0.019080\n",
      "1   1  0.107205\n",
      "2   2  0.093598\n",
      "3   3  0.137514\n",
      "4   4  0.079241\n"
     ]
    }
   ],
   "source": [
    "x_true_test = np.load(\"data/x_2012_normalized.npy\")\n",
    "\n",
    "xgb_predictions = xgb_model.predict_proba(x_true_test)[:, 1]\n",
    "lgb_predictions = lgb_model.predict_proba(x_true_test)[:, 1]\n",
    "\n",
    "new_predictions = np.add(0.5*xgb_predictions, 0.5*lgb_predictions)\n",
    "new_predictions[new_predictions < 0] = 0.0000001\n",
    "new_predictions[new_predictions > 1] = 0.9999999\n",
    "\n",
    "# hekhe\n",
    "\n",
    "ids = [i for i, _ in enumerate(x_true_test)]\n",
    "ids = np.array(ids)\n",
    "\n",
    "df = pd.DataFrame()\n",
    "df['id'] = ids\n",
    "df['target'] = new_predictions\n",
    "df.to_csv(\"final_submission_2_test.csv\", index=False)\n",
    "\n",
    "print df.head()"
   ]
  },
  {
   "cell_type": "code",
   "execution_count": null,
   "metadata": {
    "collapsed": true
   },
   "outputs": [],
   "source": []
  }
 ],
 "metadata": {
  "kernelspec": {
   "display_name": "Python 2",
   "language": "python",
   "name": "python2"
  },
  "language_info": {
   "codemirror_mode": {
    "name": "ipython",
    "version": 2
   },
   "file_extension": ".py",
   "mimetype": "text/x-python",
   "name": "python",
   "nbconvert_exporter": "python",
   "pygments_lexer": "ipython2",
   "version": "2.7.15"
  }
 },
 "nbformat": 4,
 "nbformat_minor": 2
}
