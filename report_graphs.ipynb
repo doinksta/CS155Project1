{
 "cells": [
  {
   "cell_type": "code",
   "execution_count": 1,
   "metadata": {
    "collapsed": true
   },
   "outputs": [],
   "source": [
    "import numpy as np\n",
    "import pandas as pd\n",
    "import matplotlib.pyplot as plt\n",
    "from sklearn.model_selection import train_test_split\n",
    "from xgboost import XGBClassifier\n",
    "from sklearn.metrics import roc_auc_score\n",
    "import pickle\n",
    "\n",
    "import os\n",
    "\n",
    "os.environ['KMP_DUPLICATE_LIB_OK']='True'\n",
    "\n",
    "x = np.load(\"data/x_normalized.npy\")\n",
    "y = np.load(\"data/y.npy\")\n",
    "\n",
    "x_train, x_test, y_train, y_test = train_test_split(x, y, test_size=0.2, random_state=42)"
   ]
  },
  {
   "cell_type": "markdown",
   "metadata": {},
   "source": [
    "# seeing effects of changing certain XGB parameters"
   ]
  },
  {
   "cell_type": "code",
   "execution_count": 9,
   "metadata": {
    "collapsed": true
   },
   "outputs": [],
   "source": [
    "params = {\n",
    "        'min_child_weight': [1, 5, 10],\n",
    "        'gamma': [0.5, 1, 1.5, 2, 5],\n",
    "        'subsample': [0.6, 0.8, 1.0],\n",
    "        'colsample_bytree': [0.6, 0.8, 1.0],\n",
    "        'max_depth': [3, 5, 7, 10],\n",
    "        'n_estimators': [100, 200, 300],\n",
    "        'learning_rate':[0.01, 0.05, 0.08]\n",
    "        }\n",
    "\n",
    "# model = XGBClassifier(base_score=0.5, booster='gbtree', colsample_bylevel=1,\n",
    "#        colsample_bytree=0.6, gamma=1, learning_rate=0.05, max_delta_step=0,\n",
    "#        max_depth=10, min_child_weight=10, missing=None, n_estimators=200,\n",
    "#        n_jobs=1, nthread=1, objective='binary:logistic', random_state=0,\n",
    "#        reg_alpha=0, reg_lambda=1, scale_pos_weight=1, seed=None,\n",
    "#        silent=True, subsample=0.8)"
   ]
  },
  {
   "cell_type": "code",
   "execution_count": 11,
   "metadata": {},
   "outputs": [
    {
     "name": "stdout",
     "output_type": "stream",
     "text": [
      "perfomance : 0.796821844459209\n",
      "perfomance : 0.7966530482857681\n",
      "perfomance : 0.7978625901336096\n",
      "perfomance : 0.7970457185287323\n",
      "perfomance : 0.7967926883303892\n"
     ]
    }
   ],
   "source": [
    "x = []\n",
    "y_validations = []\n",
    "y_trains = []\n",
    "for min_child_weight in [1, 5, 10, 15, 20]:\n",
    "    x.append(min_child_weight)\n",
    "    model = XGBClassifier(base_score=0.5, booster='gbtree', colsample_bylevel=1,\n",
    "       colsample_bytree=0.6, gamma=1, learning_rate=0.05, max_delta_step=0,\n",
    "       max_depth=10, min_child_weight=min_child_weight, missing=None, n_estimators=200,\n",
    "       n_jobs=1, nthread=1, objective='binary:logistic', random_state=0,\n",
    "       reg_alpha=0, reg_lambda=1, scale_pos_weight=1, seed=None,\n",
    "       silent=True, subsample=0.8)\n",
    "    model.fit(x_train, y_train)\n",
    "    prob_preds = model.predict_proba(x_train)\n",
    "    performance = roc_auc_score(y_train, prob_preds[:, 1])\n",
    "    y_trains.append(performance)\n",
    "    \n",
    "    prob_preds = model.predict_proba(x_test)\n",
    "    performance = roc_auc_score(y_test, prob_preds[:, 1])\n",
    "    y_validations.append(performance)\n",
    "    print \"perfomance : \" + str(performance)"
   ]
  },
  {
   "cell_type": "code",
   "execution_count": 12,
   "metadata": {},
   "outputs": [
    {
     "data": {
      "image/png": "[encoded data removed]",
      "text/plain": [
       "<matplotlib.figure.Figure at 0x110b3b6d0>"
      ]
     },
     "metadata": {},
     "output_type": "display_data"
    }
   ],
   "source": [
    "plt.plot(x, y_validations)\n",
    "plt.plot(x, y_trains)\n",
    "plt.show()"
   ]
  },
  {
   "cell_type": "markdown",
   "metadata": {
    "collapsed": true
   },
   "source": [
    "# getting feature importance from best models"
   ]
  },
  {
   "cell_type": "code",
   "execution_count": 2,
   "metadata": {},
   "outputs": [
    {
     "name": "stderr",
     "output_type": "stream",
     "text": [
      "/anaconda/lib/python2.7/site-packages/lightgbm/__init__.py:46: UserWarning: Starting from version 2.2.1, the library file in distribution wheels for macOS is built by the Apple Clang (Xcode_8.3.3) compiler.\n",
      "This means that in case of installing LightGBM from PyPI via the ``pip install lightgbm`` command, you don't need to install the gcc compiler anymore.\n",
      "Instead of that, you need to install the OpenMP library, which is required for running LightGBM on the system with the Apple Clang compiler.\n",
      "You can install the OpenMP library by the following command: ``brew install libomp``.\n",
      "  \"You can install the OpenMP library by the following command: ``brew install libomp``.\", UserWarning)\n"
     ]
    }
   ],
   "source": [
    "def load_model(filename):\n",
    "    with open(filename, 'rb') as f:\n",
    "        clf = pickle.load(f)\n",
    "        return clf\n",
    "\n",
    "lgb_model = load_model(\"hehe/best_xgboost.pkl\")\n",
    "xgb_model = load_model(\"hehe/best_lgb.pkl\")\n",
    "rf_model = load_model(\"hehe/best_random_forest.pkl\")"
   ]
  },
  {
   "cell_type": "code",
   "execution_count": 3,
   "metadata": {},
   "outputs": [
    {
     "data": {
      "text/plain": [
       "(381,)"
      ]
     },
     "execution_count": 3,
     "metadata": {},
     "output_type": "execute_result"
    }
   ],
   "source": [
    "xgb_model.feature_importances_.shape"
   ]
  },
  {
   "cell_type": "code",
   "execution_count": 4,
   "metadata": {},
   "outputs": [],
   "source": [
    "df = pd.read_csv(\"data/train_2008.csv\")\n",
    "feature_labels = list(df)\n",
    "features = feature_labels[1:-1]"
   ]
  },
  {
   "cell_type": "code",
   "execution_count": 5,
   "metadata": {
    "collapsed": true
   },
   "outputs": [],
   "source": [
    "def plot_feature_importance(feature_importances, features, n, title):\n",
    "    top_n_indices = feature_importances.argsort()[-n:][::-1]\n",
    "    true_labels = [features[i] for i in top_n_indices]\n",
    "    true_importances = [feature_importances[i] for i in top_n_indices]\n",
    "    fig, ax = plt.subplots()\n",
    "\n",
    "    y_pos = np.arange(len(true_importances))\n",
    "\n",
    "    ax.barh(y_pos, true_importances, align='center',\n",
    "            color='salmon', ecolor='black')\n",
    "    ax.set_yticks(y_pos)\n",
    "    ax.set_yticklabels(true_labels)\n",
    "    ax.invert_yaxis() \n",
    "    ax.set_xlabel('feature importance')\n",
    "    ax.set_title(title)\n",
    "\n",
    "    plt.show()"
   ]
  },
  {
   "cell_type": "code",
   "execution_count": 6,
   "metadata": {},
   "outputs": [
    {
     "data": {
      "image/png": "[encoded data removed]",
      "text/plain": [
       "<matplotlib.figure.Figure at 0x1a2719dfd0>"
      ]
     },
     "metadata": {},
     "output_type": "display_data"
    }
   ],
   "source": [
    "plot_feature_importance(xgb_model.feature_importances_, features, 20, '(Inferred) feature importance per XGBoost')"
   ]
  },
  {
   "cell_type": "code",
   "execution_count": 7,
   "metadata": {},
   "outputs": [
    {
     "data": {
      "image/png": "[encoded data removed]",
      "text/plain": [
       "<matplotlib.figure.Figure at 0x1a44ff6b50>"
      ]
     },
     "metadata": {},
     "output_type": "display_data"
    }
   ],
   "source": [
    "plot_feature_importance(lgb_model.feature_importances_, features, 20, '(Inferred) feature importance per Light GBM')"
   ]
  },
  {
   "cell_type": "code",
   "execution_count": 8,
   "metadata": {},
   "outputs": [
    {
     "data": {
      "image/png": "[encoded data removed]",
      "text/plain": [
       "<matplotlib.figure.Figure at 0x1a44fe6b50>"
      ]
     },
     "metadata": {},
     "output_type": "display_data"
    }
   ],
   "source": [
    "plot_feature_importance(rf_model.feature_importances_, features, 20, '(Inferred) feature importance per RF')"
   ]
  },
  {
   "cell_type": "markdown",
   "metadata": {},
   "source": [
    "# generating effect graph for features"
   ]
  },
  {
   "cell_type": "code",
   "execution_count": 13,
   "metadata": {
    "collapsed": true
   },
   "outputs": [],
   "source": [
    "lgb_model_temp = load_model(\"hehe/lgb_model_temp.pkl\")\n",
    "xgb_model_temp = load_model(\"hehe/xgb_model_temp.pkl\")\n",
    "rf_model_temp = load_model(\"hehe/rf_model_temp.pkl\")"
   ]
  },
  {
   "cell_type": "code",
   "execution_count": 30,
   "metadata": {},
   "outputs": [
    {
     "data": {
      "text/html": [
       "<div>\n",
       "<style>\n",
       "    .dataframe thead tr:only-child th {\n",
       "        text-align: right;\n",
       "    }\n",
       "\n",
       "    .dataframe thead th {\n",
       "        text-align: left;\n",
       "    }\n",
       "\n",
       "    .dataframe tbody tr th {\n",
       "        vertical-align: top;\n",
       "    }\n",
       "</style>\n",
       "<table border=\"1\" class=\"dataframe\">\n",
       "  <thead>\n",
       "    <tr style=\"text-align: right;\">\n",
       "      <th></th>\n",
       "      <th>HRMONTH</th>\n",
       "      <th>HRYEAR4</th>\n",
       "      <th>HURESPLI</th>\n",
       "      <th>HUFINAL</th>\n",
       "      <th>HUSPNISH</th>\n",
       "      <th>HETENURE</th>\n",
       "      <th>HEHOUSUT</th>\n",
       "      <th>HETELHHD</th>\n",
       "      <th>HETELAVL</th>\n",
       "      <th>HEPHONEO</th>\n",
       "      <th>...</th>\n",
       "      <th>PEDISPHY</th>\n",
       "      <th>PEDISDRS</th>\n",
       "      <th>PEDISOUT</th>\n",
       "      <th>PRDISFLG</th>\n",
       "      <th>PXDISEAR</th>\n",
       "      <th>PXDISEYE</th>\n",
       "      <th>PXDISREM</th>\n",
       "      <th>PXDISPHY</th>\n",
       "      <th>PXDISDRS</th>\n",
       "      <th>PXDISOUT</th>\n",
       "    </tr>\n",
       "  </thead>\n",
       "  <tbody>\n",
       "    <tr>\n",
       "      <th>0</th>\n",
       "      <td>0.0</td>\n",
       "      <td>0.0</td>\n",
       "      <td>0.000000</td>\n",
       "      <td>0.990099</td>\n",
       "      <td>0.0</td>\n",
       "      <td>0.0</td>\n",
       "      <td>0.0</td>\n",
       "      <td>0.0</td>\n",
       "      <td>0.4</td>\n",
       "      <td>1.0</td>\n",
       "      <td>...</td>\n",
       "      <td>1.0</td>\n",
       "      <td>1.0</td>\n",
       "      <td>1.0</td>\n",
       "      <td>1.0</td>\n",
       "      <td>0.0</td>\n",
       "      <td>0.0</td>\n",
       "      <td>0.0</td>\n",
       "      <td>0.0</td>\n",
       "      <td>0.0</td>\n",
       "      <td>0.0</td>\n",
       "    </tr>\n",
       "    <tr>\n",
       "      <th>1</th>\n",
       "      <td>0.0</td>\n",
       "      <td>0.0</td>\n",
       "      <td>0.000000</td>\n",
       "      <td>0.990099</td>\n",
       "      <td>0.0</td>\n",
       "      <td>0.5</td>\n",
       "      <td>0.0</td>\n",
       "      <td>0.0</td>\n",
       "      <td>0.4</td>\n",
       "      <td>1.0</td>\n",
       "      <td>...</td>\n",
       "      <td>1.0</td>\n",
       "      <td>1.0</td>\n",
       "      <td>1.0</td>\n",
       "      <td>1.0</td>\n",
       "      <td>0.0</td>\n",
       "      <td>0.0</td>\n",
       "      <td>0.0</td>\n",
       "      <td>0.0</td>\n",
       "      <td>0.0</td>\n",
       "      <td>0.0</td>\n",
       "    </tr>\n",
       "    <tr>\n",
       "      <th>2</th>\n",
       "      <td>0.0</td>\n",
       "      <td>0.0</td>\n",
       "      <td>0.000000</td>\n",
       "      <td>0.000000</td>\n",
       "      <td>0.0</td>\n",
       "      <td>0.0</td>\n",
       "      <td>0.0</td>\n",
       "      <td>0.0</td>\n",
       "      <td>0.4</td>\n",
       "      <td>1.0</td>\n",
       "      <td>...</td>\n",
       "      <td>1.0</td>\n",
       "      <td>1.0</td>\n",
       "      <td>1.0</td>\n",
       "      <td>1.0</td>\n",
       "      <td>0.0</td>\n",
       "      <td>0.0</td>\n",
       "      <td>0.0</td>\n",
       "      <td>0.0</td>\n",
       "      <td>0.0</td>\n",
       "      <td>0.0</td>\n",
       "    </tr>\n",
       "    <tr>\n",
       "      <th>3</th>\n",
       "      <td>0.0</td>\n",
       "      <td>0.0</td>\n",
       "      <td>0.076923</td>\n",
       "      <td>0.000000</td>\n",
       "      <td>0.0</td>\n",
       "      <td>0.0</td>\n",
       "      <td>0.0</td>\n",
       "      <td>0.0</td>\n",
       "      <td>0.4</td>\n",
       "      <td>1.0</td>\n",
       "      <td>...</td>\n",
       "      <td>1.0</td>\n",
       "      <td>1.0</td>\n",
       "      <td>1.0</td>\n",
       "      <td>1.0</td>\n",
       "      <td>0.0</td>\n",
       "      <td>0.0</td>\n",
       "      <td>0.0</td>\n",
       "      <td>0.0</td>\n",
       "      <td>0.0</td>\n",
       "      <td>0.0</td>\n",
       "    </tr>\n",
       "    <tr>\n",
       "      <th>4</th>\n",
       "      <td>0.0</td>\n",
       "      <td>0.0</td>\n",
       "      <td>0.076923</td>\n",
       "      <td>0.990099</td>\n",
       "      <td>0.0</td>\n",
       "      <td>0.0</td>\n",
       "      <td>0.0</td>\n",
       "      <td>0.0</td>\n",
       "      <td>0.4</td>\n",
       "      <td>1.0</td>\n",
       "      <td>...</td>\n",
       "      <td>1.0</td>\n",
       "      <td>1.0</td>\n",
       "      <td>1.0</td>\n",
       "      <td>1.0</td>\n",
       "      <td>0.0</td>\n",
       "      <td>0.0</td>\n",
       "      <td>0.0</td>\n",
       "      <td>0.0</td>\n",
       "      <td>0.0</td>\n",
       "      <td>0.0</td>\n",
       "    </tr>\n",
       "  </tbody>\n",
       "</table>\n",
       "<p>5 rows × 381 columns</p>\n",
       "</div>"
      ],
      "text/plain": [
       "   HRMONTH  HRYEAR4  HURESPLI   HUFINAL  HUSPNISH  HETENURE  HEHOUSUT  \\\n",
       "0      0.0      0.0  0.000000  0.990099       0.0       0.0       0.0   \n",
       "1      0.0      0.0  0.000000  0.990099       0.0       0.5       0.0   \n",
       "2      0.0      0.0  0.000000  0.000000       0.0       0.0       0.0   \n",
       "3      0.0      0.0  0.076923  0.000000       0.0       0.0       0.0   \n",
       "4      0.0      0.0  0.076923  0.990099       0.0       0.0       0.0   \n",
       "\n",
       "   HETELHHD  HETELAVL  HEPHONEO    ...     PEDISPHY  PEDISDRS  PEDISOUT  \\\n",
       "0       0.0       0.4       1.0    ...          1.0       1.0       1.0   \n",
       "1       0.0       0.4       1.0    ...          1.0       1.0       1.0   \n",
       "2       0.0       0.4       1.0    ...          1.0       1.0       1.0   \n",
       "3       0.0       0.4       1.0    ...          1.0       1.0       1.0   \n",
       "4       0.0       0.4       1.0    ...          1.0       1.0       1.0   \n",
       "\n",
       "   PRDISFLG  PXDISEAR  PXDISEYE  PXDISREM  PXDISPHY  PXDISDRS  PXDISOUT  \n",
       "0       1.0       0.0       0.0       0.0       0.0       0.0       0.0  \n",
       "1       1.0       0.0       0.0       0.0       0.0       0.0       0.0  \n",
       "2       1.0       0.0       0.0       0.0       0.0       0.0       0.0  \n",
       "3       1.0       0.0       0.0       0.0       0.0       0.0       0.0  \n",
       "4       1.0       0.0       0.0       0.0       0.0       0.0       0.0  \n",
       "\n",
       "[5 rows x 381 columns]"
      ]
     },
     "execution_count": 30,
     "metadata": {},
     "output_type": "execute_result"
    }
   ],
   "source": [
    "from sklearn.metrics import confusion_matrix\n",
    "from sklearn import preprocessing\n",
    "\n",
    "\n",
    "model = xgb_model_temp\n",
    "feature_importances = lgb_model.feature_importances_\n",
    "\n",
    "# get dataframe for scaled data\n",
    "new_df = df.copy()\n",
    "new_df = new_df.drop('id', 1)\n",
    "new_df = new_df.drop('target',1)\n",
    "\n",
    "column_labels = new_df.columns.values\n",
    "\n",
    "x_temp = new_df.values\n",
    "min_max_scaler = preprocessing.MinMaxScaler()\n",
    "x_scaled = min_max_scaler.fit_transform(x_temp)\n",
    "new_df = pd.DataFrame(x_scaled, columns=column_labels)\n",
    "new_df.head()"
   ]
  },
  {
   "cell_type": "code",
   "execution_count": 44,
   "metadata": {},
   "outputs": [
    {
     "data": {
      "text/plain": [
       "0.6167225950783"
      ]
     },
     "execution_count": 44,
     "metadata": {},
     "output_type": "execute_result"
    }
   ],
   "source": [
    "feature = \"PEEDUCA\"\n",
    "\n",
    "\n",
    "\n",
    "# inside for loop code here\n",
    "tp = []\n",
    "tn = []\n",
    "fp = []\n",
    "fn = []\n",
    "\n",
    "predictions = model.predict_proba(x_test)[:,1]\n",
    "predicted_labels = np.array([0 if prediction < 0.5 else 1 for prediction in predictions])\n",
    "# predicted_labels = predicted_labels.reshape(-1,1)\n",
    "\n",
    "\n",
    "feature_values = new_df[feature]\n",
    "\n",
    "for i, label in enumerate(predicted_labels):\n",
    "    if label == 0 and y_test[i] == 0:\n",
    "        tn.append(feature_values[i])\n",
    "    elif label == 1 and y_test[i] == 0:\n",
    "        fp.append(feature_values[i])\n",
    "    elif label == 0 and y_test[i] == 1:\n",
    "        fn.append(feature_values[i])\n",
    "    else:\n",
    "        tp.append(feature_values[i])\n",
    "        \n",
    "tp_value = np.mean(tp)\n",
    "fp_value = np.mean(fp)\n",
    "fn_value = np.mean(fn)\n",
    "tn_value = np.mean(tn)\n",
    "\n",
    "tp_value\n"
   ]
  },
  {
   "cell_type": "code",
   "execution_count": 47,
   "metadata": {},
   "outputs": [
    {
     "name": "stdout",
     "output_type": "stream",
     "text": [
      "ON FEATURE 0\n",
      "ON FEATURE 50\n",
      "ON FEATURE 100\n",
      "ON FEATURE 150\n",
      "ON FEATURE 200\n",
      "ON FEATURE 250\n",
      "ON FEATURE 300\n",
      "ON FEATURE 350\n"
     ]
    }
   ],
   "source": [
    "tp_vals = []\n",
    "tn_vals = []\n",
    "fp_vals = []\n",
    "fn_vals = []\n",
    "\n",
    "for j, feature in enumerate(features):\n",
    "#     print \"DOING FEATURE \" + feature\n",
    "    if j % 50 == 0:\n",
    "        print \"ON FEATURE \" + str(j)\n",
    "    tp = []\n",
    "    tn = []\n",
    "    fp = []\n",
    "    fn = []\n",
    "\n",
    "    predictions = model.predict_proba(x_test)[:,1]\n",
    "    predicted_labels = np.array([0 if prediction < 0.5 else 1 for prediction in predictions])\n",
    "    # predicted_labels = predicted_labels.reshape(-1,1)\n",
    "\n",
    "\n",
    "    feature_values = new_df[feature]\n",
    "\n",
    "    for i, label in enumerate(predicted_labels):\n",
    "        if label == 0 and y_test[i] == 0:\n",
    "            tn.append(feature_values[i])\n",
    "        elif label == 1 and y_test[i] == 0:\n",
    "            fp.append(feature_values[i])\n",
    "        elif label == 0 and y_test[i] == 1:\n",
    "            fn.append(feature_values[i])\n",
    "        else:\n",
    "            tp.append(feature_values[i])\n",
    "\n",
    "    tp_value = np.mean(tp)\n",
    "    fp_value = np.mean(fp)\n",
    "    fn_value = np.mean(fn)\n",
    "    tn_value = np.mean(tn)\n",
    "    \n",
    "    tp_vals.append(tp_value)\n",
    "    fp_vals.append(fp_value)\n",
    "    fn_vals.append(fn_value)\n",
    "    tn_vals.append(tn_value)"
   ]
  },
  {
   "cell_type": "code",
   "execution_count": 82,
   "metadata": {},
   "outputs": [
    {
     "data": {
      "image/png": "[encoded data removed]",
      "text/plain": [
       "<matplotlib.figure.Figure at 0x1a30ba1dd0>"
      ]
     },
     "metadata": {},
     "output_type": "display_data"
    }
   ],
   "source": [
    "top_n_indices = feature_importances.argsort()[-10:][::-1]\n",
    "true_labels = [features[i] for i in top_n_indices]\n",
    "real_tp_vals = [tp_vals[i] for i in top_n_indices]\n",
    "real_tn_vals = [tn_vals[i] for i in top_n_indices]\n",
    "real_fp_vals = [fp_vals[i] for i in top_n_indices]\n",
    "real_fn_vals = [fn_vals[i] for i in top_n_indices]\n",
    "\n",
    "fig, ax = plt.subplots(figsize=(10, 3))\n",
    "pos = list(range(len(top_n_indices)))\n",
    "width = 0.08\n",
    "\n",
    "plt.bar(pos, real_tp_vals, width, label='tp')\n",
    "plt.bar([p + width for p in pos], real_tn_vals, width, label='tn')\n",
    "plt.bar([p + 2*width for p in pos], real_fn_vals, width, label='fn')\n",
    "plt.bar([p + 3*width for p in pos], real_fp_vals, width, label='fp')\n",
    "plt.legend()\n",
    "\n",
    "ax.set_xticks([p + 1.5*width for p in pos])\n",
    "ax.set_xticklabels(true_labels)\n",
    "\n",
    "plt.show()\n",
    "\n",
    "\n"
   ]
  },
  {
   "cell_type": "code",
   "execution_count": 67,
   "metadata": {},
   "outputs": [
    {
     "data": {
      "text/plain": [
       "[0.4627457901979079,\n",
       " 0.4361790043073224,\n",
       " 0.25322408397495094,\n",
       " 0.3218162962463323,\n",
       " 0.3070288220286447,\n",
       " 0.4847994566954299,\n",
       " 0.5039505796217206,\n",
       " 0.2538199476789084,\n",
       " 0.6378929706817379,\n",
       " 0.03787596321153368]"
      ]
     },
     "execution_count": 67,
     "metadata": {},
     "output_type": "execute_result"
    }
   ],
   "source": [
    "real_tp_vals"
   ]
  },
  {
   "cell_type": "code",
   "execution_count": 68,
   "metadata": {},
   "outputs": [
    {
     "data": {
      "text/plain": [
       "[0.454206184797417,\n",
       " 0.4325373134328358,\n",
       " 0.2488944486524294,\n",
       " 0.3124227386934673,\n",
       " 0.3005892016393998,\n",
       " 0.4787698412698413,\n",
       " 0.5025454545454545,\n",
       " 0.24697823266327626,\n",
       " 0.6417543859649122,\n",
       " 0.03210082304526749]"
      ]
     },
     "execution_count": 68,
     "metadata": {},
     "output_type": "execute_result"
    }
   ],
   "source": [
    "real_fp_vals"
   ]
  },
  {
   "cell_type": "code",
   "execution_count": 78,
   "metadata": {
    "collapsed": true
   },
   "outputs": [],
   "source": [
    "def generate_feature_sign(model, feature_importances, features):\n",
    "    tp_vals = []\n",
    "    tn_vals = []\n",
    "    fp_vals = []\n",
    "    fn_vals = []\n",
    "\n",
    "    for j, feature in enumerate(features):\n",
    "    #     print \"DOING FEATURE \" + feature\n",
    "        if j % 50 == 0:\n",
    "            print \"ON FEATURE \" + str(j)\n",
    "        tp = []\n",
    "        tn = []\n",
    "        fp = []\n",
    "        fn = []\n",
    "\n",
    "        predictions = model.predict_proba(x_test)[:,1]\n",
    "        predicted_labels = np.array([0 if prediction < 0.5 else 1 for prediction in predictions])\n",
    "        # predicted_labels = predicted_labels.reshape(-1,1)\n",
    "\n",
    "\n",
    "        feature_values = new_df[feature]\n",
    "\n",
    "        for i, label in enumerate(predicted_labels):\n",
    "            if label == 0 and y_test[i] == 0:\n",
    "                tn.append(feature_values[i])\n",
    "            elif label == 1 and y_test[i] == 0:\n",
    "                fp.append(feature_values[i])\n",
    "            elif label == 0 and y_test[i] == 1:\n",
    "                fn.append(feature_values[i])\n",
    "            else:\n",
    "                tp.append(feature_values[i])\n",
    "\n",
    "        tp_value = np.mean(tp)\n",
    "        fp_value = np.mean(fp)\n",
    "        fn_value = np.mean(fn)\n",
    "        tn_value = np.mean(tn)\n",
    "\n",
    "        tp_vals.append(tp_value)\n",
    "        fp_vals.append(fp_value)\n",
    "        fn_vals.append(fn_value)\n",
    "        tn_vals.append(tn_value)\n",
    "    \n",
    "    top_n_indices = feature_importances.argsort()[-10:][::-1]\n",
    "    true_labels = [features[i] for i in top_n_indices]\n",
    "    real_tp_vals = [tp_vals[i] for i in top_n_indices]\n",
    "    real_tn_vals = [tn_vals[i] for i in top_n_indices]\n",
    "    real_fp_vals = [fp_vals[i] for i in top_n_indices]\n",
    "    real_fn_vals = [fn_vals[i] for i in top_n_indices]\n",
    "\n",
    "    fig, ax = plt.subplots(figsize=(10, 10))\n",
    "    pos = list(range(len(top_n_indices)))\n",
    "    width = 0.08\n",
    "\n",
    "    plt.bar(pos, real_tp_vals, width, label='tp')\n",
    "    plt.bar([p + width for p in pos], real_tn_vals, width, label='tn')\n",
    "    plt.bar([p + 2*width for p in pos], real_fn_vals, width, label='fn')\n",
    "    plt.bar([p + 3*width for p in pos], real_fp_vals, width, label='fp')\n",
    "    plt.legend()\n",
    "    ax.set_xticks([p + 1.5*width for p in pos])\n",
    "    ax.set_xticklabels(true_labels)\n",
    "\n",
    "    plt.show()"
   ]
  },
  {
   "cell_type": "code",
   "execution_count": 83,
   "metadata": {},
   "outputs": [
    {
     "name": "stdout",
     "output_type": "stream",
     "text": [
      "ON FEATURE 0\n",
      "ON FEATURE 50\n",
      "ON FEATURE 100\n",
      "ON FEATURE 150\n",
      "ON FEATURE 200\n",
      "ON FEATURE 250\n",
      "ON FEATURE 300\n",
      "ON FEATURE 350\n"
     ]
    },
    {
     "data": {
      "image/png": "[encoded data removed]",
      "text/plain": [
       "<matplotlib.figure.Figure at 0x1a28823e50>"
      ]
     },
     "metadata": {},
     "output_type": "display_data"
    }
   ],
   "source": [
    "generate_feature_sign(xgb_model, xgb_model.feature_importances_, features)"
   ]
  },
  {
   "cell_type": "code",
   "execution_count": 84,
   "metadata": {},
   "outputs": [
    {
     "name": "stdout",
     "output_type": "stream",
     "text": [
      "ON FEATURE 0\n",
      "ON FEATURE 50\n",
      "ON FEATURE 100\n",
      "ON FEATURE 150\n",
      "ON FEATURE 200\n",
      "ON FEATURE 250\n",
      "ON FEATURE 300\n",
      "ON FEATURE 350\n"
     ]
    },
    {
     "data": {
      "image/png": "[encoded data removed]",
      "text/plain": [
       "<matplotlib.figure.Figure at 0x1a28823750>"
      ]
     },
     "metadata": {},
     "output_type": "display_data"
    }
   ],
   "source": [
    "generate_feature_sign(lgb_model, lgb_model.feature_importances_, features)"
   ]
  },
  {
   "cell_type": "code",
   "execution_count": null,
   "metadata": {
    "collapsed": true
   },
   "outputs": [],
   "source": []
  }
 ],
 "metadata": {
  "kernelspec": {
   "display_name": "Python 2",
   "language": "python",
   "name": "python2"
  },
  "language_info": {
   "codemirror_mode": {
    "name": "ipython",
    "version": 2
   },
   "file_extension": ".py",
   "mimetype": "text/x-python",
   "name": "python",
   "nbconvert_exporter": "python",
   "pygments_lexer": "ipython2",
   "version": "2.7.15"
  }
 },
 "nbformat": 4,
 "nbformat_minor": 2
}
