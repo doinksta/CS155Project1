{
 "cells": [
  {
   "cell_type": "code",
   "execution_count": 1,
   "metadata": {},
   "outputs": [
    {
     "name": "stderr",
     "output_type": "stream",
     "text": [
      "/anaconda/lib/python2.7/site-packages/lightgbm/__init__.py:46: UserWarning: Starting from version 2.2.1, the library file in distribution wheels for macOS is built by the Apple Clang (Xcode_8.3.3) compiler.\n",
      "This means that in case of installing LightGBM from PyPI via the ``pip install lightgbm`` command, you don't need to install the gcc compiler anymore.\n",
      "Instead of that, you need to install the OpenMP library, which is required for running LightGBM on the system with the Apple Clang compiler.\n",
      "You can install the OpenMP library by the following command: ``brew install libomp``.\n",
      "  \"You can install the OpenMP library by the following command: ``brew install libomp``.\", UserWarning)\n"
     ]
    }
   ],
   "source": [
    "import numpy as np\n",
    "import pandas as pd\n",
    "import matplotlib.pyplot as plt\n",
    "from sklearn.model_selection import train_test_split\n",
    "import lightgbm as lgb\n",
    "from sklearn.metrics import roc_auc_score\n",
    "import pickle\n",
    "\n",
    "\n",
    "def get_metrics(model, axis, preprocessed_test=None):\n",
    "    prob_preds = model.predict_proba(x_train)\n",
    "    performance = roc_auc_score(y_train, prob_preds[:, axis])\n",
    "    print \"TRAINING: \" + str(performance)\n",
    "    \n",
    "    prob_preds = model.predict_proba(x_test)\n",
    "    performance = roc_auc_score(y_test, prob_preds[:, axis])\n",
    "    print \"TEST: \" + str(performance)"
   ]
  },
  {
   "cell_type": "code",
   "execution_count": 2,
   "metadata": {
    "collapsed": true
   },
   "outputs": [],
   "source": [
    "x = np.load(\"data/x_normalized.npy\")\n",
    "y = np.load(\"data/y.npy\")\n",
    "x_train, x_test, y_train, y_test = train_test_split(x, y, test_size=0.2, random_state=42)"
   ]
  },
  {
   "cell_type": "code",
   "execution_count": 3,
   "metadata": {},
   "outputs": [
    {
     "name": "stdout",
     "output_type": "stream",
     "text": [
      "0.9881389025222007\n",
      "0.7976760596588771\n"
     ]
    }
   ],
   "source": [
    "model = lgb.LGBMClassifier(boosting_type='dart',learning_rate=0.1, num_leaves=500, reg_alpha=0, min_child_samples=5, min_child_weight=1e-05, n_estimators=1000, reg_lambda=100, max_depth=15, dropout=0.7)\n",
    "model.fit(x_train, y_train, verbose=False)\n",
    "\n",
    "y_pred = model.predict_proba(x_train)[:, 1]\n",
    "performance = roc_auc_score(y_train, y_pred)\n",
    "print performance\n",
    "\n",
    "y_pred = model.predict_proba(x_test)[:, 1]\n",
    "performance = roc_auc_score(y_test, y_pred)\n",
    "print performance"
   ]
  },
  {
   "cell_type": "code",
   "execution_count": 4,
   "metadata": {},
   "outputs": [
    {
     "name": "stdout",
     "output_type": "stream",
     "text": [
      "0.9104873405681265\n",
      "0.7978625901336096\n"
     ]
    }
   ],
   "source": [
    "from xgboost import XGBClassifier\n",
    "\n",
    "model1 = XGBClassifier(base_score=0.5, booster='gbtree', colsample_bylevel=1,\n",
    "       colsample_bytree=0.6, gamma=1, learning_rate=0.05, max_delta_step=0,\n",
    "       max_depth=10, min_child_weight=10, missing=None, n_estimators=200,\n",
    "       n_jobs=1, nthread=1, objective='binary:logistic', random_state=0,\n",
    "       reg_alpha=0, reg_lambda=1, scale_pos_weight=1, seed=None,\n",
    "       silent=True, subsample=0.8)\n",
    "model1.fit(x_train, y_train)\n",
    "\n",
    "y_pred = model1.predict_proba(x_train)[:, 1]\n",
    "performance = roc_auc_score(y_train, y_pred)\n",
    "print performance\n",
    "\n",
    "y_pred = model1.predict_proba(x_test)[:, 1]\n",
    "performance = roc_auc_score(y_test, y_pred)\n",
    "print performance"
   ]
  },
  {
   "cell_type": "code",
   "execution_count": 71,
   "metadata": {
    "collapsed": true
   },
   "outputs": [],
   "source": [
    "xgboost_predictions = model.predict_proba(x_train)[:, 1]\n",
    "lgb_predictions = model1.predict_proba(x_train)[:, 1]"
   ]
  },
  {
   "cell_type": "code",
   "execution_count": 72,
   "metadata": {},
   "outputs": [
    {
     "data": {
      "text/plain": [
       "array([0.14159794, 0.42136143, 0.08245563, ..., 0.19948283, 0.62061479,\n",
       "       0.05624542])"
      ]
     },
     "execution_count": 72,
     "metadata": {},
     "output_type": "execute_result"
    }
   ],
   "source": [
    "xgboost_predictions"
   ]
  },
  {
   "cell_type": "code",
   "execution_count": 73,
   "metadata": {},
   "outputs": [
    {
     "data": {
      "text/plain": [
       "array([0.2386743 , 0.38075927, 0.12050674, ..., 0.24197845, 0.59291583,\n",
       "       0.09094482], dtype=float32)"
      ]
     },
     "execution_count": 73,
     "metadata": {},
     "output_type": "execute_result"
    }
   ],
   "source": [
    "lgb_predictions"
   ]
  },
  {
   "cell_type": "code",
   "execution_count": 74,
   "metadata": {
    "collapsed": true
   },
   "outputs": [],
   "source": [
    "xgboost_predictions = xgboost_predictions.reshape(-1,1)\n",
    "lgb_predictions = lgb_predictions.reshape(-1, 1)"
   ]
  },
  {
   "cell_type": "code",
   "execution_count": 75,
   "metadata": {},
   "outputs": [],
   "source": [
    "catboost_predictions = model3.predict_proba(x_train)[:, 1]\n",
    "catboost_predictions = catboost_predictions.reshape(-1, 1)\n",
    "\n"
   ]
  },
  {
   "cell_type": "code",
   "execution_count": 76,
   "metadata": {},
   "outputs": [
    {
     "data": {
      "text/plain": [
       "(51733, 1)"
      ]
     },
     "execution_count": 76,
     "metadata": {},
     "output_type": "execute_result"
    }
   ],
   "source": [
    "catboost_predictions.shape"
   ]
  },
  {
   "cell_type": "code",
   "execution_count": 77,
   "metadata": {},
   "outputs": [
    {
     "data": {
      "text/plain": [
       "(51733, 3)"
      ]
     },
     "execution_count": 77,
     "metadata": {},
     "output_type": "execute_result"
    }
   ],
   "source": [
    "new_x_train = np.concatenate((xgboost_predictions, lgb_predictions, catboost_predictions), axis=1)\n",
    "new_x_train.shape"
   ]
  },
  {
   "cell_type": "code",
   "execution_count": 78,
   "metadata": {
    "collapsed": true
   },
   "outputs": [],
   "source": [
    "xgboost_predictions = model.predict_proba(x_test)[:, 1]\n",
    "lgb_predictions = model1.predict_proba(x_test)[:, 1]"
   ]
  },
  {
   "cell_type": "code",
   "execution_count": 79,
   "metadata": {
    "collapsed": true
   },
   "outputs": [],
   "source": [
    "xgboost_predictions = xgboost_predictions.reshape(-1,1)\n",
    "lgb_predictions = lgb_predictions.reshape(-1, 1)\n",
    "catboost_predictions = model3.predict_proba(x_test)[:, 1]\n",
    "catboost_predictions = catboost_predictions.reshape(-1, 1)"
   ]
  },
  {
   "cell_type": "code",
   "execution_count": 80,
   "metadata": {
    "collapsed": true
   },
   "outputs": [],
   "source": [
    "new_x_test = np.concatenate((xgboost_predictions, lgb_predictions, catboost_predictions), axis=1)"
   ]
  },
  {
   "cell_type": "code",
   "execution_count": null,
   "metadata": {
    "collapsed": true
   },
   "outputs": [],
   "source": []
  },
  {
   "cell_type": "code",
   "execution_count": 65,
   "metadata": {},
   "outputs": [
    {
     "data": {
      "text/plain": [
       "array([[0.57816954],\n",
       "       [0.16246426],\n",
       "       [0.68261432],\n",
       "       ...,\n",
       "       [0.0514024 ],\n",
       "       [0.27861476],\n",
       "       [0.27675975]])"
      ]
     },
     "execution_count": 65,
     "metadata": {},
     "output_type": "execute_result"
    }
   ],
   "source": [
    "catboost_predictions = model3.predict_proba(x_test)[:, 1]\n",
    "catboost_predictions = catboost_predictions.reshape(-1, 1)\n",
    "catboost_predictions"
   ]
  },
  {
   "cell_type": "code",
   "execution_count": 66,
   "metadata": {
    "collapsed": true
   },
   "outputs": [],
   "source": [
    "new_x_test = np.concatenate((xgboost_predictions, lgb_predictions, catboost_predictions), axis=1)"
   ]
  },
  {
   "cell_type": "code",
   "execution_count": 67,
   "metadata": {},
   "outputs": [
    {
     "data": {
      "text/plain": [
       "(12934, 3)"
      ]
     },
     "execution_count": 67,
     "metadata": {},
     "output_type": "execute_result"
    }
   ],
   "source": [
    "new_x_test.shape"
   ]
  },
  {
   "cell_type": "code",
   "execution_count": 81,
   "metadata": {
    "collapsed": true
   },
   "outputs": [],
   "source": [
    "np.save(\"hehe/new_x_train_v2.npy\", new_x_train)\n",
    "np.save(\"hehe/y_train.npy\", y_train)\n",
    "np.save(\"hehe/new_x_test_v2.npy\", new_x_test)\n",
    "np.save(\"hehe/y_test.npy\", y_test)"
   ]
  },
  {
   "cell_type": "code",
   "execution_count": 17,
   "metadata": {
    "collapsed": true
   },
   "outputs": [],
   "source": [
    "pkl_filename = \"hehe/best_xgboost.pkl\"  \n",
    "with open(pkl_filename, 'wb') as file:  \n",
    "    pickle.dump(model, file)\n",
    "    \n",
    "pkl_filename = \"hehe/best_lgb.pkl\"  \n",
    "with open(pkl_filename, 'wb') as file:  \n",
    "    pickle.dump(model1, file)\n"
   ]
  },
  {
   "cell_type": "code",
   "execution_count": 82,
   "metadata": {
    "collapsed": true
   },
   "outputs": [],
   "source": [
    "pkl_filename = \"hehe/best_catboost.pkl\"  \n",
    "with open(pkl_filename, 'wb') as file:  \n",
    "    pickle.dump(model3, file)"
   ]
  },
  {
   "cell_type": "code",
   "execution_count": 23,
   "metadata": {
    "collapsed": true
   },
   "outputs": [],
   "source": [
    "from sklearn.ensemble import RandomForestClassifier"
   ]
  },
  {
   "cell_type": "code",
   "execution_count": 34,
   "metadata": {},
   "outputs": [
    {
     "data": {
      "text/plain": [
       "RandomForestClassifier(bootstrap=True, class_weight=None, criterion='gini',\n",
       "            max_depth=60, max_features='auto', max_leaf_nodes=None,\n",
       "            min_impurity_decrease=0.0, min_impurity_split=None,\n",
       "            min_samples_leaf=70, min_samples_split=2,\n",
       "            min_weight_fraction_leaf=0.0, n_estimators=5000, n_jobs=1,\n",
       "            oob_score=False, random_state=0, verbose=0, warm_start=False)"
      ]
     },
     "execution_count": 34,
     "metadata": {},
     "output_type": "execute_result"
    }
   ],
   "source": [
    "model2 = RandomForestClassifier(n_estimators=5000,max_depth=60, min_samples_leaf=70, random_state=0)\n",
    "model2.fit(x_train, y_train)"
   ]
  },
  {
   "cell_type": "code",
   "execution_count": 35,
   "metadata": {},
   "outputs": [
    {
     "name": "stdout",
     "output_type": "stream",
     "text": [
      "0.7959627031784424\n",
      "0.7718811668689002\n"
     ]
    }
   ],
   "source": [
    "y_pred = model2.predict_proba(x_train)[:, 1]\n",
    "performance = roc_auc_score(y_train, y_pred)\n",
    "print performance\n",
    "\n",
    "y_pred = model2.predict_proba(x_test)[:, 1]\n",
    "performance = roc_auc_score(y_test, y_pred)\n",
    "print performance"
   ]
  },
  {
   "cell_type": "code",
   "execution_count": 33,
   "metadata": {},
   "outputs": [
    {
     "data": {
      "text/plain": [
       "array([0.59382353, 0.20053138, 0.41059164, ..., 0.07868636, 0.2675133 ,\n",
       "       0.27681837])"
      ]
     },
     "execution_count": 33,
     "metadata": {},
     "output_type": "execute_result"
    }
   ],
   "source": []
  },
  {
   "cell_type": "code",
   "execution_count": 38,
   "metadata": {},
   "outputs": [
    {
     "data": {
      "text/plain": [
       "<catboost.core.CatBoostClassifier at 0x1a23a4ba50>"
      ]
     },
     "execution_count": 38,
     "metadata": {},
     "output_type": "execute_result"
    }
   ],
   "source": [
    "from catboost import CatBoostClassifier\n",
    "\n",
    "model3 = CatBoostClassifier(random_seed=42, verbose=False)\n",
    "model3.fit(x_train, y_train)"
   ]
  },
  {
   "cell_type": "code",
   "execution_count": 40,
   "metadata": {},
   "outputs": [
    {
     "name": "stdout",
     "output_type": "stream",
     "text": [
      "0.8498191097054603\n",
      "0.7945903224839722\n"
     ]
    }
   ],
   "source": [
    "y_pred = model3.predict_proba(x_train)[:, 1]\n",
    "performance = roc_auc_score(y_train, y_pred)\n",
    "print performance\n",
    "\n",
    "y_pred = model3.predict_proba(x_test)[:, 1]\n",
    "performance = roc_auc_score(y_test, y_pred)\n",
    "print performance"
   ]
  },
  {
   "cell_type": "code",
   "execution_count": 98,
   "metadata": {
    "scrolled": true
   },
   "outputs": [
    {
     "data": {
      "text/plain": [
       "<catboost.core.CatBoostClassifier at 0x1a2376db90>"
      ]
     },
     "execution_count": 98,
     "metadata": {},
     "output_type": "execute_result"
    }
   ],
   "source": [
    "model3 = CatBoostClassifier(iterations=500,\n",
    "                             learning_rate=0.07,\n",
    "                             depth=8,\n",
    "                             eval_metric='AUC',\n",
    "                             bagging_temperature = 0.2,\n",
    "#                              od_type='Iter',\n",
    "#                              od_wait=20,\n",
    "                             random_seed=42)\n",
    "model3.fit(x_train, y_train, verbose=False)"
   ]
  },
  {
   "cell_type": "code",
   "execution_count": 99,
   "metadata": {},
   "outputs": [
    {
     "name": "stdout",
     "output_type": "stream",
     "text": [
      "0.8916588220926331\n",
      "0.7966545951543388\n"
     ]
    }
   ],
   "source": [
    "y_pred = model3.predict_proba(x_train)[:, 1]\n",
    "performance = roc_auc_score(y_train, y_pred)\n",
    "print performance\n",
    "\n",
    "y_pred = model3.predict_proba(x_test)[:, 1]\n",
    "performance = roc_auc_score(y_test, y_pred)\n",
    "print performance"
   ]
  },
  {
   "cell_type": "code",
   "execution_count": 100,
   "metadata": {},
   "outputs": [
    {
     "data": {
      "text/plain": [
       "<catboost.core.CatBoostClassifier at 0x1a23641090>"
      ]
     },
     "execution_count": 100,
     "metadata": {},
     "output_type": "execute_result"
    }
   ],
   "source": [
    "x = np.load(\"data/x_normalized.npy\")\n",
    "y = np.load(\"data/y.npy\")\n",
    "model3 = CatBoostClassifier(iterations=500,\n",
    "                             learning_rate=0.07,\n",
    "                             depth=8,\n",
    "                             eval_metric='AUC',\n",
    "                             bagging_temperature = 0.2,\n",
    "#                              od_type='Iter',\n",
    "#                              od_wait=20,\n",
    "                             random_seed=42)\n",
    "model3.fit(x, y, verbose=False)"
   ]
  },
  {
   "cell_type": "code",
   "execution_count": 101,
   "metadata": {},
   "outputs": [
    {
     "name": "stdout",
     "output_type": "stream",
     "text": [
      "   id    target\n",
      "0   0  0.285417\n",
      "1   1  0.053161\n",
      "2   2  0.130045\n",
      "3   3  0.372295\n",
      "4   4  0.202752\n"
     ]
    }
   ],
   "source": [
    "x_true_test = np.load(\"data/x_test_normalized.npy\")\n",
    "\n",
    "new_predictions = model3.predict_proba(x_true_test)[:, 1]\n",
    "\n",
    "new_predictions[new_predictions < 0] = 0.0000001\n",
    "new_predictions[new_predictions > 1] = 0.9999999\n",
    "\n",
    "# hekhe\n",
    "\n",
    "ids = [i for i, _ in enumerate(x_true_test)]\n",
    "ids = np.array(ids)\n",
    "\n",
    "df = pd.DataFrame()\n",
    "df['id'] = ids\n",
    "df['target'] = new_predictions\n",
    "df.to_csv(\"catboost_2.csv\", index=False)\n",
    "\n",
    "print df.head()"
   ]
  },
  {
   "cell_type": "code",
   "execution_count": null,
   "metadata": {
    "collapsed": true
   },
   "outputs": [],
   "source": []
  }
 ],
 "metadata": {
  "kernelspec": {
   "display_name": "Python 2",
   "language": "python",
   "name": "python2"
  },
  "language_info": {
   "codemirror_mode": {
    "name": "ipython",
    "version": 2
   },
   "file_extension": ".py",
   "mimetype": "text/x-python",
   "name": "python",
   "nbconvert_exporter": "python",
   "pygments_lexer": "ipython2",
   "version": "2.7.15"
  }
 },
 "nbformat": 4,
 "nbformat_minor": 2
}
