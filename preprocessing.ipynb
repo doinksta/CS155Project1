{
 "cells": [
  {
   "cell_type": "markdown",
   "metadata": {},
   "source": [
    "Data preprocessing for loading train and test data, then splitting data."
   ]
  },
  {
   "cell_type": "code",
   "execution_count": 1,
   "metadata": {},
   "outputs": [
    {
     "name": "stderr",
     "output_type": "stream",
     "text": [
      "Using TensorFlow backend.\n"
     ]
    }
   ],
   "source": [
    "import numpy as np\n",
    "import pandas as pd\n",
    "import matplotlib.pyplot as plt\n",
    "import tensorflow as tf\n",
    "import keras"
   ]
  },
  {
   "cell_type": "code",
   "execution_count": 2,
   "metadata": {},
   "outputs": [],
   "source": [
    "def load_data(filename1, filename2):\n",
    "    \"\"\" Loads in training and test data, then splits and saves\n",
    "    training and test data. \"\"\"\n",
    "    df_train = pd.read_csv(filename1)\n",
    "    new_df_train = df_train.copy()\n",
    "\n",
    "    df_test = pd.read_csv(filename2)\n",
    "    new_df_test = df_test.copy()\n",
    "    \n",
    "    # remove features in training set where std dev of values is 0\n",
    "    for feature in new_df_train.columns.values:\n",
    "        col_vals = new_df_train[feature].values\n",
    "        if np.std(col_vals) == 0:\n",
    "            new_df_train.drop(feature, axis=1, inplace=True)\n",
    "            new_df_test.drop(feature, axis=1, inplace=True)\n",
    "        \n",
    "    # data splits\n",
    "    x = new_df_train.loc[:, new_df_train.columns != 'target'].values\n",
    "    y = new_df_train['target'].values\n",
    "    x_test = new_df_test.values\n",
    "    \n",
    "    # Shuffle order of data\n",
    "    rand_order = np.arange(len(x))\n",
    "    np.random.seed(42)\n",
    "    np.random.shuffle(rand_order)\n",
    "\n",
    "    new_x = [x[i] for i in range(len(rand_order))]\n",
    "    new_y = [y[i] for i in range(len(rand_order))]\n",
    "\n",
    "    # save training and test data\n",
    "    np.save(\"data/x.npy\", np.array(new_x))\n",
    "    np.save(\"data/y.npy\", np.array(new_y))\n",
    "    np.save(\"data/x_test.npy\", x_test)"
   ]
  },
  {
   "cell_type": "code",
   "execution_count": 3,
   "metadata": {},
   "outputs": [],
   "source": [
    "load_data(\"data/train_2008.csv\", \"data/test_2008.csv\")"
   ]
  },
  {
   "cell_type": "code",
   "execution_count": null,
   "metadata": {},
   "outputs": [],
   "source": []
  }
 ],
 "metadata": {
  "kernelspec": {
   "display_name": "Python 3",
   "language": "python",
   "name": "python3"
  },
  "language_info": {
   "codemirror_mode": {
    "name": "ipython",
    "version": 3
   },
   "file_extension": ".py",
   "mimetype": "text/x-python",
   "name": "python",
   "nbconvert_exporter": "python",
   "pygments_lexer": "ipython3",
   "version": "3.6.8"
  }
 },
 "nbformat": 4,
 "nbformat_minor": 2
}
