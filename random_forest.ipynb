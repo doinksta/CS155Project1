{
 "cells": [
  {
   "cell_type": "code",
   "execution_count": 1,
   "metadata": {},
   "outputs": [
    {
     "name": "stderr",
     "output_type": "stream",
     "text": [
      "/anaconda/lib/python2.7/site-packages/h5py/__init__.py:34: FutureWarning: Conversion of the second argument of issubdtype from `float` to `np.floating` is deprecated. In future, it will be treated as `np.float64 == np.dtype(float).type`.\n",
      "  from ._conv import register_converters as _register_converters\n",
      "Using TensorFlow backend.\n"
     ]
    }
   ],
   "source": [
    "import numpy as np\n",
    "import pandas as pd\n",
    "import matplotlib.pyplot as plt\n",
    "import tensorflow as tf\n",
    "import keras\n"
   ]
  },
  {
   "cell_type": "code",
   "execution_count": 93,
   "metadata": {},
   "outputs": [
    {
     "data": {
      "text/html": [
       "<div>\n",
       "<style>\n",
       "    .dataframe thead tr:only-child th {\n",
       "        text-align: right;\n",
       "    }\n",
       "\n",
       "    .dataframe thead th {\n",
       "        text-align: left;\n",
       "    }\n",
       "\n",
       "    .dataframe tbody tr th {\n",
       "        vertical-align: top;\n",
       "    }\n",
       "</style>\n",
       "<table border=\"1\" class=\"dataframe\">\n",
       "  <thead>\n",
       "    <tr style=\"text-align: right;\">\n",
       "      <th></th>\n",
       "      <th>id</th>\n",
       "      <th>HRMONTH</th>\n",
       "      <th>HRYEAR4</th>\n",
       "      <th>HURESPLI</th>\n",
       "      <th>HUFINAL</th>\n",
       "      <th>HUSPNISH</th>\n",
       "      <th>HETENURE</th>\n",
       "      <th>HEHOUSUT</th>\n",
       "      <th>HETELHHD</th>\n",
       "      <th>HETELAVL</th>\n",
       "      <th>...</th>\n",
       "      <th>PEDISPHY</th>\n",
       "      <th>PEDISDRS</th>\n",
       "      <th>PEDISOUT</th>\n",
       "      <th>PRDISFLG</th>\n",
       "      <th>PXDISEAR</th>\n",
       "      <th>PXDISEYE</th>\n",
       "      <th>PXDISREM</th>\n",
       "      <th>PXDISPHY</th>\n",
       "      <th>PXDISDRS</th>\n",
       "      <th>PXDISOUT</th>\n",
       "    </tr>\n",
       "  </thead>\n",
       "  <tbody>\n",
       "    <tr>\n",
       "      <th>0</th>\n",
       "      <td>0</td>\n",
       "      <td>11</td>\n",
       "      <td>2008</td>\n",
       "      <td>1</td>\n",
       "      <td>201</td>\n",
       "      <td>0</td>\n",
       "      <td>2</td>\n",
       "      <td>1</td>\n",
       "      <td>1</td>\n",
       "      <td>-1</td>\n",
       "      <td>...</td>\n",
       "      <td>2</td>\n",
       "      <td>2</td>\n",
       "      <td>2</td>\n",
       "      <td>2</td>\n",
       "      <td>0</td>\n",
       "      <td>0</td>\n",
       "      <td>0</td>\n",
       "      <td>0</td>\n",
       "      <td>0</td>\n",
       "      <td>0</td>\n",
       "    </tr>\n",
       "    <tr>\n",
       "      <th>1</th>\n",
       "      <td>1</td>\n",
       "      <td>11</td>\n",
       "      <td>2008</td>\n",
       "      <td>1</td>\n",
       "      <td>201</td>\n",
       "      <td>0</td>\n",
       "      <td>1</td>\n",
       "      <td>1</td>\n",
       "      <td>1</td>\n",
       "      <td>-1</td>\n",
       "      <td>...</td>\n",
       "      <td>2</td>\n",
       "      <td>2</td>\n",
       "      <td>2</td>\n",
       "      <td>2</td>\n",
       "      <td>0</td>\n",
       "      <td>0</td>\n",
       "      <td>0</td>\n",
       "      <td>0</td>\n",
       "      <td>0</td>\n",
       "      <td>0</td>\n",
       "    </tr>\n",
       "    <tr>\n",
       "      <th>2</th>\n",
       "      <td>2</td>\n",
       "      <td>11</td>\n",
       "      <td>2008</td>\n",
       "      <td>1</td>\n",
       "      <td>201</td>\n",
       "      <td>0</td>\n",
       "      <td>1</td>\n",
       "      <td>1</td>\n",
       "      <td>1</td>\n",
       "      <td>-1</td>\n",
       "      <td>...</td>\n",
       "      <td>2</td>\n",
       "      <td>2</td>\n",
       "      <td>2</td>\n",
       "      <td>2</td>\n",
       "      <td>0</td>\n",
       "      <td>0</td>\n",
       "      <td>0</td>\n",
       "      <td>0</td>\n",
       "      <td>0</td>\n",
       "      <td>0</td>\n",
       "    </tr>\n",
       "    <tr>\n",
       "      <th>3</th>\n",
       "      <td>3</td>\n",
       "      <td>11</td>\n",
       "      <td>2008</td>\n",
       "      <td>2</td>\n",
       "      <td>1</td>\n",
       "      <td>0</td>\n",
       "      <td>1</td>\n",
       "      <td>1</td>\n",
       "      <td>1</td>\n",
       "      <td>-1</td>\n",
       "      <td>...</td>\n",
       "      <td>2</td>\n",
       "      <td>2</td>\n",
       "      <td>2</td>\n",
       "      <td>2</td>\n",
       "      <td>0</td>\n",
       "      <td>0</td>\n",
       "      <td>0</td>\n",
       "      <td>0</td>\n",
       "      <td>0</td>\n",
       "      <td>0</td>\n",
       "    </tr>\n",
       "    <tr>\n",
       "      <th>4</th>\n",
       "      <td>4</td>\n",
       "      <td>11</td>\n",
       "      <td>2008</td>\n",
       "      <td>1</td>\n",
       "      <td>201</td>\n",
       "      <td>0</td>\n",
       "      <td>1</td>\n",
       "      <td>1</td>\n",
       "      <td>1</td>\n",
       "      <td>-1</td>\n",
       "      <td>...</td>\n",
       "      <td>2</td>\n",
       "      <td>2</td>\n",
       "      <td>2</td>\n",
       "      <td>2</td>\n",
       "      <td>0</td>\n",
       "      <td>0</td>\n",
       "      <td>0</td>\n",
       "      <td>0</td>\n",
       "      <td>0</td>\n",
       "      <td>0</td>\n",
       "    </tr>\n",
       "  </tbody>\n",
       "</table>\n",
       "<p>5 rows × 382 columns</p>\n",
       "</div>"
      ],
      "text/plain": [
       "   id  HRMONTH  HRYEAR4  HURESPLI  HUFINAL  HUSPNISH  HETENURE  HEHOUSUT  \\\n",
       "0   0       11     2008         1      201         0         2         1   \n",
       "1   1       11     2008         1      201         0         1         1   \n",
       "2   2       11     2008         1      201         0         1         1   \n",
       "3   3       11     2008         2        1         0         1         1   \n",
       "4   4       11     2008         1      201         0         1         1   \n",
       "\n",
       "   HETELHHD  HETELAVL    ...     PEDISPHY  PEDISDRS  PEDISOUT  PRDISFLG  \\\n",
       "0         1        -1    ...            2         2         2         2   \n",
       "1         1        -1    ...            2         2         2         2   \n",
       "2         1        -1    ...            2         2         2         2   \n",
       "3         1        -1    ...            2         2         2         2   \n",
       "4         1        -1    ...            2         2         2         2   \n",
       "\n",
       "   PXDISEAR  PXDISEYE  PXDISREM  PXDISPHY  PXDISDRS  PXDISOUT  \n",
       "0         0         0         0         0         0         0  \n",
       "1         0         0         0         0         0         0  \n",
       "2         0         0         0         0         0         0  \n",
       "3         0         0         0         0         0         0  \n",
       "4         0         0         0         0         0         0  \n",
       "\n",
       "[5 rows x 382 columns]"
      ]
     },
     "execution_count": 93,
     "metadata": {},
     "output_type": "execute_result"
    }
   ],
   "source": [
    "df = pd.read_csv(\"test_2008.csv\")\n",
    "df.head()"
   ]
  },
  {
   "cell_type": "code",
   "execution_count": 94,
   "metadata": {
    "collapsed": true
   },
   "outputs": [],
   "source": [
    "# remove unnecessary features\n",
    "\n",
    "new_df = df.copy()\n",
    "\n",
    "# for feature in df.columns.values:\n",
    "#     temp = new_df[feature]\n",
    "#     elem0 = temp[0]\n",
    "#     if np.count_nonzero(temp-elem0) == 0:\n",
    "#         new_df = new_df.drop(feature, 1)\n",
    "# new_df = new_df.drop('id', 1)"
   ]
  },
  {
   "cell_type": "code",
   "execution_count": 95,
   "metadata": {},
   "outputs": [
    {
     "data": {
      "text/html": [
       "<div>\n",
       "<style>\n",
       "    .dataframe thead tr:only-child th {\n",
       "        text-align: right;\n",
       "    }\n",
       "\n",
       "    .dataframe thead th {\n",
       "        text-align: left;\n",
       "    }\n",
       "\n",
       "    .dataframe tbody tr th {\n",
       "        vertical-align: top;\n",
       "    }\n",
       "</style>\n",
       "<table border=\"1\" class=\"dataframe\">\n",
       "  <thead>\n",
       "    <tr style=\"text-align: right;\">\n",
       "      <th></th>\n",
       "      <th>id</th>\n",
       "      <th>HRMONTH</th>\n",
       "      <th>HRYEAR4</th>\n",
       "      <th>HURESPLI</th>\n",
       "      <th>HUFINAL</th>\n",
       "      <th>HUSPNISH</th>\n",
       "      <th>HETENURE</th>\n",
       "      <th>HEHOUSUT</th>\n",
       "      <th>HETELHHD</th>\n",
       "      <th>HETELAVL</th>\n",
       "      <th>...</th>\n",
       "      <th>PEDISPHY</th>\n",
       "      <th>PEDISDRS</th>\n",
       "      <th>PEDISOUT</th>\n",
       "      <th>PRDISFLG</th>\n",
       "      <th>PXDISEAR</th>\n",
       "      <th>PXDISEYE</th>\n",
       "      <th>PXDISREM</th>\n",
       "      <th>PXDISPHY</th>\n",
       "      <th>PXDISDRS</th>\n",
       "      <th>PXDISOUT</th>\n",
       "    </tr>\n",
       "  </thead>\n",
       "  <tbody>\n",
       "    <tr>\n",
       "      <th>0</th>\n",
       "      <td>0</td>\n",
       "      <td>11</td>\n",
       "      <td>2008</td>\n",
       "      <td>1</td>\n",
       "      <td>201</td>\n",
       "      <td>0</td>\n",
       "      <td>2</td>\n",
       "      <td>1</td>\n",
       "      <td>1</td>\n",
       "      <td>-1</td>\n",
       "      <td>...</td>\n",
       "      <td>2</td>\n",
       "      <td>2</td>\n",
       "      <td>2</td>\n",
       "      <td>2</td>\n",
       "      <td>0</td>\n",
       "      <td>0</td>\n",
       "      <td>0</td>\n",
       "      <td>0</td>\n",
       "      <td>0</td>\n",
       "      <td>0</td>\n",
       "    </tr>\n",
       "    <tr>\n",
       "      <th>1</th>\n",
       "      <td>1</td>\n",
       "      <td>11</td>\n",
       "      <td>2008</td>\n",
       "      <td>1</td>\n",
       "      <td>201</td>\n",
       "      <td>0</td>\n",
       "      <td>1</td>\n",
       "      <td>1</td>\n",
       "      <td>1</td>\n",
       "      <td>-1</td>\n",
       "      <td>...</td>\n",
       "      <td>2</td>\n",
       "      <td>2</td>\n",
       "      <td>2</td>\n",
       "      <td>2</td>\n",
       "      <td>0</td>\n",
       "      <td>0</td>\n",
       "      <td>0</td>\n",
       "      <td>0</td>\n",
       "      <td>0</td>\n",
       "      <td>0</td>\n",
       "    </tr>\n",
       "    <tr>\n",
       "      <th>2</th>\n",
       "      <td>2</td>\n",
       "      <td>11</td>\n",
       "      <td>2008</td>\n",
       "      <td>1</td>\n",
       "      <td>201</td>\n",
       "      <td>0</td>\n",
       "      <td>1</td>\n",
       "      <td>1</td>\n",
       "      <td>1</td>\n",
       "      <td>-1</td>\n",
       "      <td>...</td>\n",
       "      <td>2</td>\n",
       "      <td>2</td>\n",
       "      <td>2</td>\n",
       "      <td>2</td>\n",
       "      <td>0</td>\n",
       "      <td>0</td>\n",
       "      <td>0</td>\n",
       "      <td>0</td>\n",
       "      <td>0</td>\n",
       "      <td>0</td>\n",
       "    </tr>\n",
       "    <tr>\n",
       "      <th>3</th>\n",
       "      <td>3</td>\n",
       "      <td>11</td>\n",
       "      <td>2008</td>\n",
       "      <td>2</td>\n",
       "      <td>1</td>\n",
       "      <td>0</td>\n",
       "      <td>1</td>\n",
       "      <td>1</td>\n",
       "      <td>1</td>\n",
       "      <td>-1</td>\n",
       "      <td>...</td>\n",
       "      <td>2</td>\n",
       "      <td>2</td>\n",
       "      <td>2</td>\n",
       "      <td>2</td>\n",
       "      <td>0</td>\n",
       "      <td>0</td>\n",
       "      <td>0</td>\n",
       "      <td>0</td>\n",
       "      <td>0</td>\n",
       "      <td>0</td>\n",
       "    </tr>\n",
       "    <tr>\n",
       "      <th>4</th>\n",
       "      <td>4</td>\n",
       "      <td>11</td>\n",
       "      <td>2008</td>\n",
       "      <td>1</td>\n",
       "      <td>201</td>\n",
       "      <td>0</td>\n",
       "      <td>1</td>\n",
       "      <td>1</td>\n",
       "      <td>1</td>\n",
       "      <td>-1</td>\n",
       "      <td>...</td>\n",
       "      <td>2</td>\n",
       "      <td>2</td>\n",
       "      <td>2</td>\n",
       "      <td>2</td>\n",
       "      <td>0</td>\n",
       "      <td>0</td>\n",
       "      <td>0</td>\n",
       "      <td>0</td>\n",
       "      <td>0</td>\n",
       "      <td>0</td>\n",
       "    </tr>\n",
       "  </tbody>\n",
       "</table>\n",
       "<p>5 rows × 382 columns</p>\n",
       "</div>"
      ],
      "text/plain": [
       "   id  HRMONTH  HRYEAR4  HURESPLI  HUFINAL  HUSPNISH  HETENURE  HEHOUSUT  \\\n",
       "0   0       11     2008         1      201         0         2         1   \n",
       "1   1       11     2008         1      201         0         1         1   \n",
       "2   2       11     2008         1      201         0         1         1   \n",
       "3   3       11     2008         2        1         0         1         1   \n",
       "4   4       11     2008         1      201         0         1         1   \n",
       "\n",
       "   HETELHHD  HETELAVL    ...     PEDISPHY  PEDISDRS  PEDISOUT  PRDISFLG  \\\n",
       "0         1        -1    ...            2         2         2         2   \n",
       "1         1        -1    ...            2         2         2         2   \n",
       "2         1        -1    ...            2         2         2         2   \n",
       "3         1        -1    ...            2         2         2         2   \n",
       "4         1        -1    ...            2         2         2         2   \n",
       "\n",
       "   PXDISEAR  PXDISEYE  PXDISREM  PXDISPHY  PXDISDRS  PXDISOUT  \n",
       "0         0         0         0         0         0         0  \n",
       "1         0         0         0         0         0         0  \n",
       "2         0         0         0         0         0         0  \n",
       "3         0         0         0         0         0         0  \n",
       "4         0         0         0         0         0         0  \n",
       "\n",
       "[5 rows x 382 columns]"
      ]
     },
     "execution_count": 95,
     "metadata": {},
     "output_type": "execute_result"
    }
   ],
   "source": [
    "new_df.head()"
   ]
  },
  {
   "cell_type": "code",
   "execution_count": 96,
   "metadata": {},
   "outputs": [
    {
     "name": "stdout",
     "output_type": "stream",
     "text": [
      "(16000, 382)\n"
     ]
    }
   ],
   "source": [
    "print new_df.shape"
   ]
  },
  {
   "cell_type": "code",
   "execution_count": 91,
   "metadata": {},
   "outputs": [
    {
     "name": "stdout",
     "output_type": "stream",
     "text": [
      "(64667, 382)\n",
      "(64667,)\n"
     ]
    }
   ],
   "source": [
    "x = new_df.loc[:, new_df.columns != 'target'].values\n",
    "y = new_df['target'].values\n",
    "\n",
    "print x.shape\n",
    "print y.shape\n"
   ]
  },
  {
   "cell_type": "code",
   "execution_count": 92,
   "metadata": {
    "collapsed": true
   },
   "outputs": [],
   "source": [
    "np.save(\"x_new.npy\", x)\n",
    "np.save(\"y_new.npy\", y)"
   ]
  },
  {
   "cell_type": "code",
   "execution_count": 97,
   "metadata": {},
   "outputs": [
    {
     "name": "stdout",
     "output_type": "stream",
     "text": [
      "(16000, 382)\n"
     ]
    }
   ],
   "source": [
    "# test save file\n",
    "\n",
    "x = new_df.values\n",
    "print x.shape"
   ]
  },
  {
   "cell_type": "code",
   "execution_count": 98,
   "metadata": {
    "collapsed": true
   },
   "outputs": [],
   "source": [
    "np.save(\"x_new_test.npy\", x)"
   ]
  },
  {
   "cell_type": "markdown",
   "metadata": {},
   "source": [
    "# yeah u kno"
   ]
  },
  {
   "cell_type": "code",
   "execution_count": 7,
   "metadata": {
    "collapsed": true
   },
   "outputs": [],
   "source": [
    "import numpy as np\n",
    "import pandas as pd\n",
    "import matplotlib.pyplot as plt\n",
    "import sklearn\n",
    "from sklearn.model_selection import train_test_split\n",
    "\n",
    "x = np.load(\"x.npy\")\n",
    "y = np.load(\"y.npy\")\n",
    "x_train, x_test, y_train, y_test = train_test_split(x, y, test_size=0.33, random_state=42)"
   ]
  },
  {
   "cell_type": "code",
   "execution_count": 6,
   "metadata": {},
   "outputs": [
    {
     "data": {
      "text/plain": [
       "(43326, 366)"
      ]
     },
     "execution_count": 6,
     "metadata": {},
     "output_type": "execute_result"
    }
   ],
   "source": [
    "x_train.shape"
   ]
  },
  {
   "cell_type": "code",
   "execution_count": 24,
   "metadata": {},
   "outputs": [
    {
     "data": {
      "image/png": "[encoded data removed]",
      "text/plain": [
       "<matplotlib.figure.Figure at 0x1a3f9c7390>"
      ]
     },
     "metadata": {},
     "output_type": "display_data"
    },
    {
     "data": {
      "text/plain": [
       "(43326, 2)"
      ]
     },
     "execution_count": 24,
     "metadata": {},
     "output_type": "execute_result"
    }
   ],
   "source": [
    "from sklearn.decomposition import PCA\n",
    "\n",
    "\n",
    "colors = []\n",
    "for i, _ in enumerate(x_train):\n",
    "    if y_train[i] == 0:\n",
    "        colors.append('b')\n",
    "    else:\n",
    "        colors.append('g')\n",
    "    \n",
    "    \n",
    "plt.scatter(x_train[:, 0], x_train[:, 1], c=colors)\n",
    "plt.show()\n",
    "\n",
    "pca_model = PCA(n_components=2)\n",
    "pca_model.fit(x_train)\n",
    "embeddings = pca_model.transform(x_train)\n",
    "embeddings.shape\n"
   ]
  },
  {
   "cell_type": "code",
   "execution_count": 25,
   "metadata": {},
   "outputs": [
    {
     "data": {
      "image/png": "[encoded data removed]",
      "text/plain": [
       "<matplotlib.figure.Figure at 0x1a3feb1810>"
      ]
     },
     "metadata": {},
     "output_type": "display_data"
    }
   ],
   "source": [
    "colors = []\n",
    "for i, _ in enumerate(embeddings):\n",
    "    if y_train[i] == 0:\n",
    "        colors.append('b')\n",
    "    else:\n",
    "        colors.append('g')\n",
    "    \n",
    "\n",
    "plt.scatter(embeddings[:, 0], embeddings[:, 1], c=colors)\n",
    "plt.show()"
   ]
  },
  {
   "cell_type": "code",
   "execution_count": 26,
   "metadata": {},
   "outputs": [
    {
     "data": {
      "image/png": "[encoded data removed]",
      "text/plain": [
       "<matplotlib.figure.Figure at 0x1a3feb1d10>"
      ]
     },
     "metadata": {},
     "output_type": "display_data"
    },
    {
     "name": "stdout",
     "output_type": "stream",
     "text": [
      "(21341, 2)\n"
     ]
    },
    {
     "data": {
      "image/png": "[encoded data removed]",
      "text/plain": [
       "<matplotlib.figure.Figure at 0x1a400dcf10>"
      ]
     },
     "metadata": {},
     "output_type": "display_data"
    }
   ],
   "source": [
    "colors = []\n",
    "for i, _ in enumerate(x_test):\n",
    "    if y_train[i] == 0:\n",
    "        colors.append('b')\n",
    "    else:\n",
    "        colors.append('g')\n",
    "\n",
    "plt.scatter(x_test[:, 0], x_test[:, 1], c=colors)\n",
    "plt.show()\n",
    "\n",
    "\n",
    "embeddings = pca_model.transform(x_test)\n",
    "print embeddings.shape\n",
    "\n",
    "colors = []\n",
    "for i, _ in enumerate(embeddings):\n",
    "    if y_train[i] == 0:\n",
    "        colors.append('b')\n",
    "    else:\n",
    "        colors.append('g')\n",
    "\n",
    "plt.scatter(embeddings[:, 0], embeddings[:, 1], c = colors)\n",
    "plt.show()"
   ]
  },
  {
   "cell_type": "markdown",
   "metadata": {},
   "source": [
    "# random forest"
   ]
  },
  {
   "cell_type": "code",
   "execution_count": 194,
   "metadata": {
    "collapsed": true
   },
   "outputs": [],
   "source": [
    "# random forest\n",
    "from sklearn.ensemble import RandomForestClassifier\n",
    "from sklearn.metrics import roc_auc_score\n",
    "import pickle\n",
    "\n",
    "x = np.load(\"x_new.npy\")\n",
    "y = np.load(\"y_new.npy\")\n",
    "x_train, x_test, y_train, y_test = train_test_split(x, y, test_size=0.25, random_state=42)"
   ]
  },
  {
   "cell_type": "code",
   "execution_count": 195,
   "metadata": {},
   "outputs": [
    {
     "name": "stdout",
     "output_type": "stream",
     "text": [
      "0.7821074634945534\n"
     ]
    },
    {
     "name": "stderr",
     "output_type": "stream",
     "text": [
      "[Parallel(n_jobs=1)]: Done  10 out of  10 | elapsed:    0.8s finished\n",
      "[Parallel(n_jobs=1)]: Done  10 out of  10 | elapsed:    0.1s finished\n"
     ]
    }
   ],
   "source": [
    "model = RandomForestClassifier(max_depth=10, min_samples_leaf=25, random_state=0, verbose=True)\n",
    "model.fit(x_train, y_train)\n",
    "prob_preds = model.predict_proba(x_train)\n",
    "performance = roc_auc_score(y_train, prob_preds[:, 1])\n",
    "print performance"
   ]
  },
  {
   "cell_type": "code",
   "execution_count": 196,
   "metadata": {},
   "outputs": [
    {
     "name": "stdout",
     "output_type": "stream",
     "text": [
      "0.7564487564835184\n"
     ]
    },
    {
     "name": "stderr",
     "output_type": "stream",
     "text": [
      "[Parallel(n_jobs=1)]: Done  10 out of  10 | elapsed:    0.0s finished\n"
     ]
    }
   ],
   "source": [
    "prob_preds = model.predict_proba(x_test)\n",
    "performance = roc_auc_score(y_test, prob_preds[:, 1])\n",
    "print performance"
   ]
  },
  {
   "cell_type": "code",
   "execution_count": 188,
   "metadata": {
    "collapsed": true
   },
   "outputs": [],
   "source": [
    "pickle.dump(model, open('models/first_test.pkl', 'wb'))"
   ]
  },
  {
   "cell_type": "code",
   "execution_count": 193,
   "metadata": {},
   "outputs": [
    {
     "data": {
      "text/plain": [
       "RandomForestClassifier(bootstrap=True, class_weight=None, criterion='gini',\n",
       "            max_depth=10, max_features='auto', max_leaf_nodes=None,\n",
       "            min_impurity_decrease=0.0, min_impurity_split=None,\n",
       "            min_samples_leaf=25, min_samples_split=2,\n",
       "            min_weight_fraction_leaf=0.0, n_estimators=10, n_jobs=1,\n",
       "            oob_score=False, random_state=0, verbose=True,\n",
       "            warm_start=False)"
      ]
     },
     "execution_count": 193,
     "metadata": {},
     "output_type": "execute_result"
    }
   ],
   "source": [
    "hehe = load_model(\"models/first_test.pkl\")\n"
   ]
  },
  {
   "cell_type": "markdown",
   "metadata": {},
   "source": [
    "# other"
   ]
  },
  {
   "cell_type": "code",
   "execution_count": 167,
   "metadata": {},
   "outputs": [
    {
     "name": "stdout",
     "output_type": "stream",
     "text": [
      "0.8018301227547491\n",
      "0.7442135151569653\n"
     ]
    },
    {
     "name": "stderr",
     "output_type": "stream",
     "text": [
      "[Parallel(n_jobs=1)]: Done  10 out of  10 | elapsed:    3.6s finished\n",
      "[Parallel(n_jobs=1)]: Done  10 out of  10 | elapsed:    0.1s finished\n",
      "[Parallel(n_jobs=1)]: Done  10 out of  10 | elapsed:    0.0s finished\n"
     ]
    }
   ],
   "source": [
    "# pca -> random forest classifier\n",
    "pca_model = PCA(n_components=150)\n",
    "pca_model.fit(x_train)\n",
    "embeddings_train = pca_model.transform(x_train)\n",
    "embeddings_test = pca_model.transform(x_test)\n",
    "model = RandomForestClassifier(max_depth=10, min_samples_leaf=50, random_state=0, verbose=True)\n",
    "model.fit(embeddings_train, y_train)\n",
    "prob_preds = model.predict_proba(embeddings_train)\n",
    "performance = roc_auc_score(y_train, prob_preds[:, 1])\n",
    "print performance\n",
    "\n",
    "prob_preds = model.predict_proba(embeddings_test)\n",
    "performance = roc_auc_score(y_test, prob_preds[:, 1])\n",
    "print performance"
   ]
  },
  {
   "cell_type": "code",
   "execution_count": 200,
   "metadata": {},
   "outputs": [
    {
     "name": "stdout",
     "output_type": "stream",
     "text": [
      "0.7921716821818551\n",
      "0.7563091069965076\n"
     ]
    },
    {
     "name": "stderr",
     "output_type": "stream",
     "text": [
      "[Parallel(n_jobs=1)]: Done  10 out of  10 | elapsed:    1.2s finished\n",
      "[Parallel(n_jobs=1)]: Done  10 out of  10 | elapsed:    0.1s finished\n",
      "[Parallel(n_jobs=1)]: Done  10 out of  10 | elapsed:    0.0s finished\n"
     ]
    }
   ],
   "source": [
    "from sklearn.ensemble import ExtraTreesClassifier\n",
    "\n",
    "\n",
    "x = np.load(\"x_new.npy\")\n",
    "y = np.load(\"y_new.npy\")\n",
    "x_train, x_test, y_train, y_test = train_test_split(x, y, test_size=0.25, random_state=42)\n",
    "\n",
    "model = ExtraTreesClassifier(max_depth=15, min_samples_leaf=25, random_state=0, verbose=True)\n",
    "model.fit(x_train, y_train)\n",
    "prob_preds = model.predict_proba(x_train)\n",
    "performance = roc_auc_score(y_train, prob_preds[:, 1])\n",
    "print performance\n",
    "\n",
    "\n",
    "prob_preds = model.predict_proba(x_test)\n",
    "performance = roc_auc_score(y_test, prob_preds[:, 1])\n",
    "print performance"
   ]
  },
  {
   "cell_type": "markdown",
   "metadata": {
    "collapsed": true
   },
   "source": [
    "# hyperparameter search"
   ]
  },
  {
   "cell_type": "code",
   "execution_count": 2,
   "metadata": {},
   "outputs": [
    {
     "name": "stdout",
     "output_type": "stream",
     "text": [
      "TRAIN: 0.809625139342064\n",
      "TEST: 0.7614336790412715\n",
      "TRAIN: 0.8105628782796382\n",
      "TEST: 0.7627794859477615\n",
      "TRAIN: 0.8037367548565272\n",
      "TEST: 0.7626232990969131\n",
      "TRAIN: 0.8102351829053904\n",
      "TEST: 0.7604232769907551\n",
      "TRAIN: 0.808588077189656\n",
      "TEST: 0.7616801623918251\n",
      "TRAIN: 0.8037367548565272\n",
      "TEST: 0.7626232990969131\n",
      "TRAIN: 0.8071557431182328\n",
      "TEST: 0.7599044353971904\n",
      "TRAIN: 0.8080502945415238\n",
      "TEST: 0.7641266053487965\n",
      "TRAIN: 0.8031265646913957\n",
      "TEST: 0.76103644631727\n",
      "TRAIN: 0.868895567253763\n",
      "TEST: 0.7596520458211846\n",
      "TRAIN: 0.8627138256691071\n",
      "TEST: 0.7599795288350834\n",
      "TRAIN: 0.851230837860092\n",
      "TEST: 0.7614494602256809\n",
      "TRAIN: 0.8645096082449106\n",
      "TEST: 0.7610926960834818\n",
      "TRAIN: 0.8620987563204121\n",
      "TEST: 0.7623695657764922\n",
      "TRAIN: 0.851230837860092\n",
      "TEST: 0.7614494602256809\n",
      "TRAIN: 0.850819852982515\n",
      "TEST: 0.7605433389917473\n",
      "TRAIN: 0.8515075226935362\n",
      "TEST: 0.7584249884211419\n",
      "TRAIN: 0.850500080009165\n",
      "TEST: 0.7623253315853407\n",
      "TRAIN: 0.927318342545102\n",
      "TEST: 0.7529596517614473\n",
      "TRAIN: 0.9161262215723309\n",
      "TEST: 0.7526059344815847\n",
      "TRAIN: 0.8929971529221059\n",
      "TEST: 0.7602493402136797\n",
      "TRAIN: 0.911042696738668\n",
      "TEST: 0.7522233110718634\n",
      "TRAIN: 0.9121483016302896\n",
      "TEST: 0.7516473915905287\n",
      "TRAIN: 0.8929971529221059\n",
      "TEST: 0.7602493402136797\n",
      "TRAIN: 0.9004144682938885\n",
      "TEST: 0.7553212669459843\n",
      "TRAIN: 0.8976472165585059\n",
      "TEST: 0.7578948968743349\n",
      "TRAIN: 0.8893579628458761\n",
      "TEST: 0.7577154444951838\n",
      "TRAIN: 0.971486394638182\n",
      "TEST: 0.7455477763170547\n",
      "TRAIN: 0.9582605327463939\n",
      "TEST: 0.746351882349989\n",
      "TRAIN: 0.9265772900989695\n",
      "TEST: 0.7541375531157949\n",
      "TRAIN: 0.9594983832890692\n",
      "TEST: 0.7489027154980887\n",
      "TRAIN: 0.9573217498858995\n",
      "TEST: 0.7488443563656438\n",
      "TRAIN: 0.9265772900989695\n",
      "TEST: 0.7541375531157949\n",
      "TRAIN: 0.9433114669952247\n",
      "TEST: 0.7482345464001665\n",
      "TRAIN: 0.9378414299463708\n",
      "TEST: 0.7527939805750182\n",
      "TRAIN: 0.925133293804764\n",
      "TEST: 0.7498433522135673\n",
      "TRAIN: 0.9885583135598983\n",
      "TEST: 0.7384594307779909\n",
      "TRAIN: 0.9740538133547917\n",
      "TEST: 0.7484744204031901\n",
      "TRAIN: 0.9456969922280302\n",
      "TEST: 0.7541060532467163\n",
      "TRAIN: 0.9774270244649604\n",
      "TEST: 0.7467038027623198\n",
      "TRAIN: 0.9726978342261502\n",
      "TEST: 0.7497348682894536\n",
      "TRAIN: 0.9456969922280302\n",
      "TEST: 0.7541060532467163\n",
      "TRAIN: 0.9579954638922096\n",
      "TEST: 0.7461982111136851\n",
      "TRAIN: 0.9546989678339542\n",
      "TEST: 0.7460174931147943\n",
      "TRAIN: 0.9409664953637367\n",
      "TEST: 0.7585186911566899\n",
      "TRAIN: 0.9954942151695196\n",
      "TEST: 0.7347403056106049\n",
      "TRAIN: 0.9837776060693479\n",
      "TEST: 0.7398767998870506\n",
      "TRAIN: 0.95174080020838\n",
      "TEST: 0.753117463605542\n",
      "TRAIN: 0.9880055499783243\n",
      "TEST: 0.7333591238511414\n",
      "TRAIN: 0.9812903696849254\n",
      "TEST: 0.7390991781190409\n",
      "TRAIN: 0.95174080020838\n",
      "TEST: 0.753117463605542\n",
      "TRAIN: 0.9701673070174475\n",
      "TEST: 0.744676420563627\n",
      "TRAIN: 0.9643136041897906\n",
      "TEST: 0.749052777374394\n",
      "TRAIN: 0.9488710118253109\n",
      "TEST: 0.7515493607479694\n",
      "TRAIN: 0.9984834938627034\n",
      "TEST: 0.728036333473989\n",
      "TRAIN: 0.9888973061282731\n",
      "TEST: 0.7369400152180619\n",
      "TRAIN: 0.9567887263849533\n",
      "TEST: 0.7517375318408832\n",
      "TRAIN: 0.9931390473332992\n",
      "TEST: 0.7307694314895504\n",
      "TRAIN: 0.9864825067779919\n",
      "TEST: 0.7402561889352148\n",
      "TRAIN: 0.9567887263849533\n",
      "TEST: 0.7517375318408832\n",
      "TRAIN: 0.9769600101485445\n",
      "TEST: 0.7472056600514754\n",
      "TRAIN: 0.9698966682785781\n",
      "TEST: 0.7506060052937905\n",
      "TRAIN: 0.9531897681731937\n",
      "TEST: 0.7522537953201631\n",
      "TRAIN: 0.9991102638064651\n",
      "TEST: 0.7305422761836646\n",
      "TRAIN: 0.9906437832701728\n",
      "TEST: 0.7385461960423728\n",
      "TRAIN: 0.9577858587316435\n",
      "TEST: 0.7549897995736454\n",
      "TRAIN: 0.9949245943481811\n",
      "TEST: 0.7325033149080974\n",
      "TRAIN: 0.988134962967656\n",
      "TEST: 0.7415143868308297\n",
      "TRAIN: 0.9577858587316435\n",
      "TEST: 0.7549897995736454\n",
      "TRAIN: 0.9793904270186284\n",
      "TEST: 0.7450286222247889\n",
      "TRAIN: 0.9720991350843775\n",
      "TEST: 0.7496538842510436\n",
      "TRAIN: 0.9540546755308297\n",
      "TEST: 0.7493522917545374\n",
      "TRAIN: 0.9993108829651186\n",
      "TEST: 0.729063047956707\n",
      "TRAIN: 0.9911111881967671\n",
      "TEST: 0.7345816343950821\n",
      "TRAIN: 0.958859212210072\n",
      "TEST: 0.7529809016731275\n",
      "TRAIN: 0.9953474716822477\n",
      "TEST: 0.737492200423042\n",
      "TRAIN: 0.9888389005595076\n",
      "TEST: 0.7430066150037564\n",
      "TRAIN: 0.958859212210072\n",
      "TEST: 0.7529809016731275\n",
      "TRAIN: 0.9826010055640166\n",
      "TEST: 0.7432896919522178\n",
      "TRAIN: 0.972771114466646\n",
      "TEST: 0.7471757695507077\n",
      "TRAIN: 0.9541944952805061\n",
      "TEST: 0.748690185131418\n",
      "TRAIN: 0.9993563295246657\n",
      "TEST: 0.7268363072115982\n",
      "TRAIN: 0.99158140217137\n",
      "TEST: 0.7419586662342935\n",
      "TRAIN: 0.9587965768348659\n",
      "TEST: 0.7514440330607375\n",
      "TRAIN: 0.995799542453602\n",
      "TEST: 0.7377677930276102\n",
      "TRAIN: 0.9891508760878607\n",
      "TEST: 0.7424516485603356\n",
      "TRAIN: 0.9587965768348659\n",
      "TEST: 0.7514440330607375\n",
      "TRAIN: 0.9823819254008863\n",
      "TEST: 0.7473034565200088\n",
      "TRAIN: 0.9733184882181009\n",
      "TEST: 0.7478373761759052\n",
      "TRAIN: 0.9539288911821477\n",
      "TEST: 0.7532200725540735\n",
      "-------------\n",
      "BEST TRAIN MODEL\n",
      "max_depth: 40, min_samples_split: 2,min_samples_leaf: 1\n",
      "-------------\n",
      "BEST TEST MODEL\n",
      "max_depth: 10, min_samples_split: 10,min_samples_leaf: 2\n"
     ]
    }
   ],
   "source": [
    "from sklearn.ensemble import RandomForestClassifier\n",
    "from sklearn.model_selection import train_test_split\n",
    "from sklearn.metrics import roc_auc_score\n",
    "import pickle\n",
    "\n",
    "x = np.load(\"data/x_normalized.npy\")\n",
    "y = np.load(\"data/y.npy\")\n",
    "\n",
    "x_train, x_test, y_train, y_test = train_test_split(x, y, test_size=0.2, random_state=42)\n",
    "\n",
    "\n",
    "max_depth_param = [int(x) for x in np.linspace(10, 40, num = 10)]\n",
    "min_samples_split_params = [2, 5, 10]\n",
    "min_samples_leaf_params = [1, 2, 4]\n",
    "\n",
    "best_train = 0.0\n",
    "best_test = 0.0\n",
    "\n",
    "best_train_depth = 0.0\n",
    "best_train_min_samples_split = 0.0\n",
    "best_train_min_samples_leaf = 0.0\n",
    "\n",
    "best_test_depth = 0.0\n",
    "best_test_min_samples_split = 0.0\n",
    "best_test_min_samples_leaf = 0.0\n",
    "\n",
    "for depth in max_depth_param:\n",
    "    for min_samples_split in min_samples_split_params:\n",
    "        for min_samples_leaf in min_samples_leaf_params:\n",
    "            model = RandomForestClassifier(max_depth=depth, min_samples_leaf=min_samples_leaf, min_samples_split=min_samples_split, random_state=0, verbose=False)\n",
    "            model.fit(x_train, y_train)\n",
    "            preds = model.predict_proba(x_train)[:, 1]\n",
    "            \n",
    "            train_performance = roc_auc_score(y_train, preds)\n",
    "            print \"TRAIN: \" + str(train_performance)\n",
    "            \n",
    "            if train_performance > best_train:\n",
    "                best_train = train_performance\n",
    "                best_train_depth = depth\n",
    "                best_train_min_samples_split = min_samples_split\n",
    "                best_train_min_samples_leaf = min_samples_leaf\n",
    "                \n",
    "                \n",
    "            preds = model.predict_proba(x_test)[:, 1]\n",
    "            test_performance = roc_auc_score(y_test, preds)\n",
    "            \n",
    "            print \"TEST: \" + str(test_performance)\n",
    "            \n",
    "            if test_performance > best_test:\n",
    "                best_test = test_performance\n",
    "                best_test_depth = depth\n",
    "                best_test_min_samples_split = min_samples_split\n",
    "                best_test_min_samples_leaf = min_samples_leaf         \n",
    "            \n",
    "\n",
    "print \"-------------\"\n",
    "print \"BEST TRAIN MODEL\"\n",
    "print \"max_depth: \" + str(best_train_depth) + \", min_samples_split: \" + str(best_train_min_samples_split) + \",min_samples_leaf: \" + str(best_train_min_samples_leaf)\n",
    "\n",
    "print \"-------------\"\n",
    "print \"BEST TEST MODEL\"\n",
    "print \"max_depth: \" + str(best_test_depth) + \", min_samples_split: \" + str(best_test_min_samples_split) + \",min_samples_leaf: \" + str(best_test_min_samples_leaf)\n"
   ]
  },
  {
   "cell_type": "code",
   "execution_count": 3,
   "metadata": {},
   "outputs": [
    {
     "name": "stdout",
     "output_type": "stream",
     "text": [
      "TEST: 0.7641266053487965\n"
     ]
    }
   ],
   "source": [
    "model = RandomForestClassifier(max_depth=10, min_samples_leaf=2, min_samples_split=10, random_state=0, verbose=False)\n",
    "model.fit(x_train, y_train)\n",
    "preds = model.predict_proba(x_test)[:, 1]\n",
    "test_performance = roc_auc_score(y_test, preds)\n",
    "\n",
    "print \"TEST: \" + str(test_performance)"
   ]
  },
  {
   "cell_type": "code",
   "execution_count": 10,
   "metadata": {
    "collapsed": true
   },
   "outputs": [],
   "source": [
    "x = np.load(\"data/x_normalized.npy\")\n",
    "y = np.load(\"data/y.npy\")\n",
    "model = RandomForestClassifier(max_depth=10, min_samples_leaf=2, min_samples_split=10, random_state=0, verbose=False)\n",
    "model.fit(x, y)\n",
    "save_model(\"hehe/best_random_forest\")"
   ]
  },
  {
   "cell_type": "markdown",
   "metadata": {},
   "source": [
    "# utilities"
   ]
  },
  {
   "cell_type": "code",
   "execution_count": 142,
   "metadata": {},
   "outputs": [
    {
     "name": "stdout",
     "output_type": "stream",
     "text": [
      "   id    target\n",
      "0   0  0.503781\n",
      "1   1  0.181107\n",
      "2   2  0.164915\n",
      "3   3  0.363230\n",
      "4   4  0.279869\n"
     ]
    },
    {
     "name": "stderr",
     "output_type": "stream",
     "text": [
      "[Parallel(n_jobs=1)]: Done  10 out of  10 | elapsed:    0.0s finished\n"
     ]
    }
   ],
   "source": [
    "# trying to range random forest over different hyperparameters\n",
    "def generate_csv(model, x_data, name):\n",
    "    ids = [i for i, _ in enumerate(x_data)]\n",
    "    ids = np.array(ids)\n",
    "    \n",
    "    predictions = model.predict_proba(x_data)[:, 1]\n",
    "    \n",
    "    df = pd.DataFrame()\n",
    "    df['id'] = ids\n",
    "    df['target'] = predictions\n",
    "    df.to_csv(name + \".csv\", index=False)\n",
    "\n",
    "    print df.head()\n",
    "\n",
    "    \n",
    "x_test = np.load(\"x_new_test.npy\")\n",
    "generate_csv(model, x_test, \"submissions/second_test\")"
   ]
  },
  {
   "cell_type": "code",
   "execution_count": 5,
   "metadata": {
    "collapsed": true
   },
   "outputs": [],
   "source": [
    "def load_model(filename):\n",
    "    with open(filename, 'rb') as f:\n",
    "        clf = pickle.load(f)\n",
    "        return clf\n",
    "\n",
    "def save_model(filename):\n",
    "    pickle.dump(model, open(filename + \".pkl\", 'wb'))"
   ]
  },
  {
   "cell_type": "code",
   "execution_count": null,
   "metadata": {
    "collapsed": true
   },
   "outputs": [],
   "source": []
  }
 ],
 "metadata": {
  "kernelspec": {
   "display_name": "Python 2",
   "language": "python",
   "name": "python2"
  },
  "language_info": {
   "codemirror_mode": {
    "name": "ipython",
    "version": 2
   },
   "file_extension": ".py",
   "mimetype": "text/x-python",
   "name": "python",
   "nbconvert_exporter": "python",
   "pygments_lexer": "ipython2",
   "version": "2.7.15"
  }
 },
 "nbformat": 4,
 "nbformat_minor": 2
}
