{
 "cells": [
  {
   "cell_type": "code",
   "execution_count": 1,
   "metadata": {},
   "outputs": [
    {
     "name": "stderr",
     "output_type": "stream",
     "text": [
      "Using TensorFlow backend.\n"
     ]
    }
   ],
   "source": [
    "import numpy as np\n",
    "import pandas as pd\n",
    "import matplotlib.pyplot as plt\n",
    "import sklearn\n",
    "from sklearn.model_selection import train_test_split\n",
    "from sklearn.metrics import roc_auc_score\n",
    "import tensorflow as tf\n",
    "import keras\n",
    "\n",
    "import random as rn\n",
    "\n",
    "np.random.seed(69)\n",
    "rn.seed(2468)\n",
    "\n",
    "session_conf = tf.ConfigProto(intra_op_parallelism_threads=1,\n",
    "                              inter_op_parallelism_threads=1)\n",
    "\n",
    "\n",
    "from keras import backend as K\n",
    "\n",
    "tf.set_random_seed(13579)\n",
    "\n",
    "sess = tf.Session(graph=tf.get_default_graph(), config=session_conf)\n",
    "K.set_session(sess)\n",
    "\n",
    "generate_data = True\n",
    "\n",
    "\n",
    "x = np.load(\"data/x.npy\")\n",
    "y = np.load(\"data/y.npy\")\n",
    "# Use this when generating the actual roc score\n",
    "if generate_data:\n",
    "    x_train, x_test, y_train, y_test = train_test_split(x, y, test_size=0.33, random_state=42)"
   ]
  },
  {
   "cell_type": "code",
   "execution_count": 2,
   "metadata": {},
   "outputs": [],
   "source": [
    "from keras.models import Sequential\n",
    "from keras.layers.core import Dense, Activation, Flatten, Dropout\n",
    "from keras.layers import Conv2D, MaxPooling2D, Flatten, BatchNormalization"
   ]
  },
  {
   "cell_type": "code",
   "execution_count": 3,
   "metadata": {},
   "outputs": [],
   "source": [
    "# 2nd submission: test_size 0.3, batch_size=32, epochs=10, binary_crossentropy, adam\n",
    "# model = Sequential()\n",
    "# model.add(BatchNormalization(input_shape=(len(x_train[0]),)))\n",
    "# model.add(Dense(300))\n",
    "# model.add(Activation('relu'))\n",
    "# model.add(Dropout(0.6))\n",
    "\n",
    "# model.add(Dense(200))\n",
    "# model.add(BatchNormalization())\n",
    "# model.add(Activation('relu'))\n",
    "# model.add(Dropout(0.6))\n",
    "\n",
    "\n",
    "# model.add(Dense(100))\n",
    "# model.add(BatchNormalization())\n",
    "# model.add(Activation('relu'))\n",
    "# model.add(Dropout(0.3))\n",
    "\n",
    "\n",
    "\n",
    "\n",
    "model = Sequential()\n",
    "model.add(BatchNormalization(input_shape=(len(x[0]),)))\n",
    "model.add(Dense(300))\n",
    "model.add(Activation('relu'))\n",
    "model.add(Dropout(0.6))\n",
    "\n",
    "model.add(Dense(200))\n",
    "model.add(BatchNormalization())\n",
    "model.add(Activation('relu'))\n",
    "model.add(Dropout(0.6))\n",
    "\n",
    "\n",
    "model.add(Dense(100))\n",
    "model.add(BatchNormalization())\n",
    "model.add(Activation('relu'))\n",
    "model.add(Dropout(0.3))"
   ]
  },
  {
   "cell_type": "code",
   "execution_count": 4,
   "metadata": {},
   "outputs": [],
   "source": [
    "model.add(Dense(1))\n",
    "model.add(Activation('sigmoid'))"
   ]
  },
  {
   "cell_type": "code",
   "execution_count": 5,
   "metadata": {},
   "outputs": [
    {
     "name": "stdout",
     "output_type": "stream",
     "text": [
      "_________________________________________________________________\n",
      "Layer (type)                 Output Shape              Param #   \n",
      "=================================================================\n",
      "batch_normalization_1 (Batch (None, 382)               1528      \n",
      "_________________________________________________________________\n",
      "dense_1 (Dense)              (None, 300)               114900    \n",
      "_________________________________________________________________\n",
      "activation_1 (Activation)    (None, 300)               0         \n",
      "_________________________________________________________________\n",
      "dropout_1 (Dropout)          (None, 300)               0         \n",
      "_________________________________________________________________\n",
      "dense_2 (Dense)              (None, 200)               60200     \n",
      "_________________________________________________________________\n",
      "batch_normalization_2 (Batch (None, 200)               800       \n",
      "_________________________________________________________________\n",
      "activation_2 (Activation)    (None, 200)               0         \n",
      "_________________________________________________________________\n",
      "dropout_2 (Dropout)          (None, 200)               0         \n",
      "_________________________________________________________________\n",
      "dense_3 (Dense)              (None, 100)               20100     \n",
      "_________________________________________________________________\n",
      "batch_normalization_3 (Batch (None, 100)               400       \n",
      "_________________________________________________________________\n",
      "activation_3 (Activation)    (None, 100)               0         \n",
      "_________________________________________________________________\n",
      "dropout_3 (Dropout)          (None, 100)               0         \n",
      "_________________________________________________________________\n",
      "dense_4 (Dense)              (None, 1)                 101       \n",
      "_________________________________________________________________\n",
      "activation_4 (Activation)    (None, 1)                 0         \n",
      "=================================================================\n",
      "Total params: 198,029\n",
      "Trainable params: 196,665\n",
      "Non-trainable params: 1,364\n",
      "_________________________________________________________________\n"
     ]
    }
   ],
   "source": [
    "model.summary()"
   ]
  },
  {
   "cell_type": "code",
   "execution_count": 6,
   "metadata": {},
   "outputs": [],
   "source": [
    "def auroc(y_true, y_pred):\n",
    "    return tf.py_func(roc_auc_score, (y_true, y_pred), tf.double)\n",
    "\n",
    "if generate_data:\n",
    "    model.compile(loss='binary_crossentropy',optimizer='adam', metrics=['accuracy'])\n",
    "else:\n",
    "    model.compile(loss='binary_crossentropy',optimizer='adam', metrics=['accuracy', auroc])"
   ]
  },
  {
   "cell_type": "code",
   "execution_count": 7,
   "metadata": {},
   "outputs": [
    {
     "name": "stderr",
     "output_type": "stream",
     "text": [
      "/usr/local/lib/python3.6/site-packages/ipykernel_launcher.py:2: UserWarning: The `nb_epoch` argument in `fit` has been renamed `epochs`.\n",
      "  \n"
     ]
    },
    {
     "name": "stdout",
     "output_type": "stream",
     "text": [
      "Epoch 1/12\n",
      "43326/43326 [==============================] - 6s 147us/step - loss: 0.5454 - acc: 0.7351\n",
      "Epoch 2/12\n",
      "43326/43326 [==============================] - 5s 124us/step - loss: 0.4975 - acc: 0.7586\n",
      "Epoch 3/12\n",
      "43326/43326 [==============================] - 5s 124us/step - loss: 0.4919 - acc: 0.7620\n",
      "Epoch 4/12\n",
      "43326/43326 [==============================] - 5s 124us/step - loss: 0.4872 - acc: 0.7671\n",
      "Epoch 5/12\n",
      "43326/43326 [==============================] - 5s 124us/step - loss: 0.4853 - acc: 0.7693\n",
      "Epoch 6/12\n",
      "43326/43326 [==============================] - 5s 125us/step - loss: 0.4838 - acc: 0.7685\n",
      "Epoch 7/12\n",
      "43326/43326 [==============================] - 5s 123us/step - loss: 0.4816 - acc: 0.7704\n",
      "Epoch 8/12\n",
      "43326/43326 [==============================] - 5s 123us/step - loss: 0.4799 - acc: 0.7721\n",
      "Epoch 9/12\n",
      "43326/43326 [==============================] - 5s 123us/step - loss: 0.4787 - acc: 0.7709\n",
      "Epoch 10/12\n",
      "43326/43326 [==============================] - 5s 123us/step - loss: 0.4765 - acc: 0.7733\n",
      "Epoch 11/12\n",
      "43326/43326 [==============================] - 5s 123us/step - loss: 0.4764 - acc: 0.7746\n",
      "Epoch 12/12\n",
      "43326/43326 [==============================] - 5s 123us/step - loss: 0.4731 - acc: 0.7748\n"
     ]
    }
   ],
   "source": [
    "if generate_data:\n",
    "    fit = model.fit(x_train, y_train, batch_size=32, nb_epoch=12, verbose=1)\n",
    "else:\n",
    "    # batch_size can be at most 33 when \n",
    "    # np.random.seed(69)\n",
    "    # rn.seed(2468)\n",
    "    # tf.set_random_seed(13579)\n",
    "    # (at least for this run... seems like putting validation split screws over the ROC calc)\n",
    "    \n",
    "    fit = model.fit(x, y, validation_split=0.33, batch_size=32, nb_epoch=33, verbose=1)"
   ]
  },
  {
   "cell_type": "code",
   "execution_count": 8,
   "metadata": {},
   "outputs": [
    {
     "name": "stdout",
     "output_type": "stream",
     "text": [
      "0.7732769078355981\n",
      "(16000, 382)\n"
     ]
    }
   ],
   "source": [
    "def generate_csv(model, x_data, name):\n",
    "    ids = [i for i, _ in enumerate(x_data)]\n",
    "    ids = np.array(ids)\n",
    "    \n",
    "    predictions = model.predict(x_data).flatten()\n",
    "    \n",
    "    df = pd.DataFrame()\n",
    "    df['id'] = ids\n",
    "    df['target'] = predictions\n",
    "    df.to_csv(name + \".csv\", index=False)\n",
    "\n",
    "#     print df.head()\n",
    "\n",
    "\n",
    "if generate_data:\n",
    "    # Use only when split earlier\n",
    "    y_scores = model.predict(x_test)\n",
    "    temp = y_scores.flatten()\n",
    "    print(roc_auc_score(y_test, temp))\n",
    "    \n",
    "    x_test = np.load(\"data/x_test.npy\")\n",
    "    print(x_test.shape)\n",
    "\n",
    "    generate_csv(model, x_test, \"submissions/third_test\")"
   ]
  },
  {
   "cell_type": "code",
   "execution_count": null,
   "metadata": {},
   "outputs": [],
   "source": []
  },
  {
   "cell_type": "code",
   "execution_count": 9,
   "metadata": {},
   "outputs": [],
   "source": [
    "# import matplotlib.pyplot as plt\n",
    "\n",
    "# # history = model.fit(x, y, validation_split=0.25, epochs=50, batch_size=16, verbose=1)\n",
    "\n",
    "# # Plot training & validation accuracy values\n",
    "# plt.plot(fit.history['acc'])\n",
    "# # plt.plot(fit.history['val_acc'])\n",
    "# plt.title('Model accuracy')\n",
    "# plt.ylabel('Accuracy')\n",
    "# plt.xlabel('Epoch')\n",
    "# # plt.legend(['Train', 'Test'], loc='upper left')\n",
    "# plt.show()\n",
    "\n",
    "# # Plot training & validation loss values\n",
    "# plt.plot(fit.history['loss'])\n",
    "# # plt.plot(fit.history['val_loss'])\n",
    "# plt.title('Model loss')\n",
    "# plt.ylabel('Loss')\n",
    "# plt.xlabel('Epoch')\n",
    "# # plt.legend(['Train', 'Test'], loc='upper left')\n",
    "# plt.show()\n",
    "\n",
    "\n",
    "if not generate_data:\n",
    "    # Use when validation was done in keras\n",
    "    import matplotlib.pyplot as plt\n",
    "\n",
    "    # history = model.fit(x, y, validation_split=0.25, epochs=50, batch_size=16, verbose=1)\n",
    "\n",
    "    # Plot training & validation accuracy values\n",
    "    plt.plot(fit.history['auroc'])\n",
    "    plt.plot(fit.history['val_auroc'])\n",
    "    plt.title('Model AUCROC')\n",
    "    plt.ylabel('AUCROC')\n",
    "    plt.xlabel('Epoch')\n",
    "    plt.legend(['Train', 'Test'], loc='upper left')\n",
    "    plt.show()\n",
    "    print('Test AUCROC maximized at iteration = {} with value of {}'.format(np.argmax(fit.history['val_auroc']) + 1, fit.history['val_auroc'][np.argmax(fit.history['val_auroc'])]))\n",
    "    plt.savefig(\"plot.png\")\n",
    "\n",
    "    # Plot training & validation loss values\n",
    "    plt.plot(fit.history['loss'])\n",
    "    plt.plot(fit.history['val_loss'])\n",
    "    plt.title('Model loss')\n",
    "    plt.ylabel('Loss')\n",
    "    plt.xlabel('Epoch')\n",
    "    plt.legend(['Train', 'Test'], loc='upper left')\n",
    "    plt.show()\n",
    "    print('Test error minimized at iteration = {} with value of {}'.format(np.argmin(fit.history['val_loss']) + 1, fit.history['val_loss'][np.argmin(fit.history['val_loss'])]))\n",
    "    plt.savefig(\"ploooot.png\")\n"
   ]
  },
  {
   "cell_type": "code",
   "execution_count": null,
   "metadata": {},
   "outputs": [],
   "source": []
  }
 ],
 "metadata": {
  "kernelspec": {
   "display_name": "Python 3",
   "language": "python",
   "name": "python3"
  },
  "language_info": {
   "codemirror_mode": {
    "name": "ipython",
    "version": 3
   },
   "file_extension": ".py",
   "mimetype": "text/x-python",
   "name": "python",
   "nbconvert_exporter": "python",
   "pygments_lexer": "ipython3",
   "version": "3.6.4"
  }
 },
 "nbformat": 4,
 "nbformat_minor": 2
}
