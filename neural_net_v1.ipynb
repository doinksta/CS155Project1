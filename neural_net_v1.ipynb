{
 "cells": [
  {
   "cell_type": "code",
   "execution_count": 1,
   "metadata": {},
   "outputs": [
    {
     "name": "stderr",
     "output_type": "stream",
     "text": [
      "Using TensorFlow backend.\n"
     ]
    }
   ],
   "source": [
    "import numpy as np\n",
    "import pandas as pd\n",
    "import matplotlib.pyplot as plt\n",
    "import sklearn\n",
    "from sklearn.model_selection import train_test_split\n",
    "from sklearn.metrics import roc_auc_score\n",
    "import tensorflow as tf\n",
    "import keras\n",
    "\n",
    "import random as rn\n",
    "\n",
    "np.random.seed(42)\n",
    "rn.seed(42)\n",
    "\n",
    "session_conf = tf.ConfigProto(intra_op_parallelism_threads=1,\n",
    "                              inter_op_parallelism_threads=1)\n",
    "\n",
    "\n",
    "from keras import backend as K\n",
    "\n",
    "tf.set_random_seed(42)\n",
    "\n",
    "sess = tf.Session(graph=tf.get_default_graph(), config=session_conf)\n",
    "K.set_session(sess)\n",
    "\n",
    "generate_data = False\n",
    "\n",
    "\n",
    "x = np.load(\"data/x.npy\")\n",
    "y = np.load(\"data/y.npy\")\n",
    "\n",
    "x_train, x_test, y_train, y_test = train_test_split(x, y, test_size=0.33, random_state=42)"
   ]
  },
  {
   "cell_type": "code",
   "execution_count": 2,
   "metadata": {},
   "outputs": [],
   "source": [
    "from keras.models import Sequential\n",
    "from keras.layers.core import Dense, Activation, Flatten, Dropout\n",
    "from keras.layers import Conv2D, MaxPooling2D, Flatten, BatchNormalization"
   ]
  },
  {
   "cell_type": "code",
   "execution_count": 3,
   "metadata": {},
   "outputs": [],
   "source": [
    "# 2nd submission: test_size 0.3, batch_size=32, epochs=10, binary_crossentropy, adam\n",
    "# model = Sequential()\n",
    "# model.add(BatchNormalization(input_shape=(len(x_train[0]),)))\n",
    "# model.add(Dense(300))\n",
    "# model.add(Activation('relu'))\n",
    "# model.add(Dropout(0.6))\n",
    "\n",
    "# model.add(Dense(200))\n",
    "# model.add(BatchNormalization())\n",
    "# model.add(Activation('relu'))\n",
    "# model.add(Dropout(0.6))\n",
    "\n",
    "\n",
    "# model.add(Dense(100))\n",
    "# model.add(BatchNormalization())\n",
    "# model.add(Activation('relu'))\n",
    "# model.add(Dropout(0.3))\n",
    "\n",
    "\n",
    "model = Sequential()\n",
    "model.add(BatchNormalization(input_shape=(len(x_train[0]),)))\n",
    "model.add(Dense(300))\n",
    "model.add(Activation('relu'))\n",
    "model.add(Dropout(0.8))\n",
    "\n",
    "model.add(Dense(100))\n",
    "model.add(BatchNormalization())\n",
    "model.add(Activation('relu'))\n",
    "model.add(Dropout(0.15))"
   ]
  },
  {
   "cell_type": "code",
   "execution_count": 4,
   "metadata": {},
   "outputs": [],
   "source": [
    "model.add(Dense(1))\n",
    "model.add(Activation('sigmoid'))"
   ]
  },
  {
   "cell_type": "code",
   "execution_count": 5,
   "metadata": {},
   "outputs": [
    {
     "name": "stdout",
     "output_type": "stream",
     "text": [
      "_________________________________________________________________\n",
      "Layer (type)                 Output Shape              Param #   \n",
      "=================================================================\n",
      "batch_normalization_1 (Batch (None, 367)               1468      \n",
      "_________________________________________________________________\n",
      "dense_1 (Dense)              (None, 300)               110400    \n",
      "_________________________________________________________________\n",
      "activation_1 (Activation)    (None, 300)               0         \n",
      "_________________________________________________________________\n",
      "dropout_1 (Dropout)          (None, 300)               0         \n",
      "_________________________________________________________________\n",
      "dense_2 (Dense)              (None, 100)               30100     \n",
      "_________________________________________________________________\n",
      "batch_normalization_2 (Batch (None, 100)               400       \n",
      "_________________________________________________________________\n",
      "activation_2 (Activation)    (None, 100)               0         \n",
      "_________________________________________________________________\n",
      "dropout_2 (Dropout)          (None, 100)               0         \n",
      "_________________________________________________________________\n",
      "dense_3 (Dense)              (None, 1)                 101       \n",
      "_________________________________________________________________\n",
      "activation_3 (Activation)    (None, 1)                 0         \n",
      "=================================================================\n",
      "Total params: 142,469\n",
      "Trainable params: 141,535\n",
      "Non-trainable params: 934\n",
      "_________________________________________________________________\n"
     ]
    }
   ],
   "source": [
    "model.summary()"
   ]
  },
  {
   "cell_type": "code",
   "execution_count": 6,
   "metadata": {},
   "outputs": [],
   "source": [
    "from keras.callbacks import Callback\n",
    "\n",
    "class Stat_Collector (Callback):\n",
    "    def __init__(self, x_train, y_train, x_test, y_test):\n",
    "        self.x_train = x_train\n",
    "        self.y_train = y_train\n",
    "        self.x_test = x_test\n",
    "        self.y_test = y_test\n",
    "\n",
    "        self.aucrocs_train = []\n",
    "        self.aucrocs_val = []\n",
    "\n",
    "    def on_epoch_end(self, batch, logs=None):\n",
    "        # Make aucroc prediction for training data\n",
    "        y_pred_train = self.model.predict(x_train)\n",
    "        y_pred_train = y_pred_train.flatten()\n",
    "        self.aucrocs_train.append(roc_auc_score(y_train, y_pred_train))\n",
    "        \n",
    "        \n",
    "        # Make aucroc prediction for validation data\n",
    "        y_pred_val = self.model.predict(x_test)\n",
    "        y_pred_val = y_pred_val.flatten()\n",
    "        self.aucrocs_val.append(roc_auc_score(y_test, y_pred_val))"
   ]
  },
  {
   "cell_type": "code",
   "execution_count": 7,
   "metadata": {},
   "outputs": [],
   "source": [
    "stat_collect = Stat_Collector(x_train, y_train, x_test, y_test)\n",
    "\n",
    "model.compile(loss='binary_crossentropy',optimizer='adam', metrics=['accuracy'])"
   ]
  },
  {
   "cell_type": "code",
   "execution_count": 8,
   "metadata": {},
   "outputs": [
    {
     "name": "stderr",
     "output_type": "stream",
     "text": [
      "/usr/local/lib/python3.6/site-packages/ipykernel_launcher.py:1: UserWarning: The `nb_epoch` argument in `fit` has been renamed `epochs`.\n",
      "  \"\"\"Entry point for launching an IPython kernel.\n"
     ]
    },
    {
     "name": "stdout",
     "output_type": "stream",
     "text": [
      "Epoch 1/30\n",
      "43326/43326 [==============================] - 5s 120us/step - loss: 0.5313 - acc: 0.7433\n",
      "Epoch 2/30\n",
      "43326/43326 [==============================] - 4s 97us/step - loss: 0.4990 - acc: 0.7604\n",
      "Epoch 3/30\n",
      "43326/43326 [==============================] - 5s 114us/step - loss: 0.4911 - acc: 0.7637\n",
      "Epoch 4/30\n",
      "43326/43326 [==============================] - 5s 125us/step - loss: 0.4886 - acc: 0.7681\n",
      "Epoch 5/30\n",
      "43326/43326 [==============================] - 4s 98us/step - loss: 0.4857 - acc: 0.7699\n",
      "Epoch 6/30\n",
      "43326/43326 [==============================] - 4s 95us/step - loss: 0.4845 - acc: 0.7700\n",
      "Epoch 7/30\n",
      "43326/43326 [==============================] - 4s 93us/step - loss: 0.4833 - acc: 0.7686\n",
      "Epoch 8/30\n",
      "43326/43326 [==============================] - 4s 91us/step - loss: 0.4820 - acc: 0.7695\n",
      "Epoch 9/30\n",
      "43326/43326 [==============================] - 4s 99us/step - loss: 0.4796 - acc: 0.7717\n",
      "Epoch 10/30\n",
      "43326/43326 [==============================] - 4s 92us/step - loss: 0.4798 - acc: 0.7727\n",
      "Epoch 11/30\n",
      "43326/43326 [==============================] - 4s 94us/step - loss: 0.4767 - acc: 0.7747\n",
      "Epoch 12/30\n",
      "43326/43326 [==============================] - 4s 93us/step - loss: 0.4776 - acc: 0.7742\n",
      "Epoch 13/30\n",
      "43326/43326 [==============================] - 4s 96us/step - loss: 0.4748 - acc: 0.7741\n",
      "Epoch 14/30\n",
      "43326/43326 [==============================] - 4s 96us/step - loss: 0.4745 - acc: 0.7761\n",
      "Epoch 15/30\n",
      "43326/43326 [==============================] - 4s 96us/step - loss: 0.4745 - acc: 0.7753\n",
      "Epoch 16/30\n",
      "43326/43326 [==============================] - 4s 93us/step - loss: 0.4742 - acc: 0.7760\n",
      "Epoch 17/30\n",
      "43326/43326 [==============================] - 4s 101us/step - loss: 0.4747 - acc: 0.7759\n",
      "Epoch 18/30\n",
      "43326/43326 [==============================] - 5s 113us/step - loss: 0.4719 - acc: 0.7762\n",
      "Epoch 19/30\n",
      "43326/43326 [==============================] - 4s 98us/step - loss: 0.4710 - acc: 0.7775\n",
      "Epoch 20/30\n",
      "43326/43326 [==============================] - 5s 110us/step - loss: 0.4705 - acc: 0.7775\n",
      "Epoch 21/30\n",
      "43326/43326 [==============================] - 4s 93us/step - loss: 0.4701 - acc: 0.7790\n",
      "Epoch 22/30\n",
      "43326/43326 [==============================] - 4s 94us/step - loss: 0.4697 - acc: 0.7773\n",
      "Epoch 23/30\n",
      "43326/43326 [==============================] - 4s 95us/step - loss: 0.4699 - acc: 0.7792\n",
      "Epoch 24/30\n",
      "43326/43326 [==============================] - 4s 93us/step - loss: 0.4689 - acc: 0.7786\n",
      "Epoch 25/30\n",
      "43326/43326 [==============================] - 4s 92us/step - loss: 0.4687 - acc: 0.7779\n",
      "Epoch 26/30\n",
      "43326/43326 [==============================] - 4s 100us/step - loss: 0.4673 - acc: 0.7802\n",
      "Epoch 27/30\n",
      "43326/43326 [==============================] - 4s 97us/step - loss: 0.4678 - acc: 0.7805\n",
      "Epoch 28/30\n",
      "43326/43326 [==============================] - 4s 95us/step - loss: 0.4665 - acc: 0.7800\n",
      "Epoch 29/30\n",
      "43326/43326 [==============================] - 4s 94us/step - loss: 0.4663 - acc: 0.7812\n",
      "Epoch 30/30\n",
      "43326/43326 [==============================] - 4s 97us/step - loss: 0.4660 - acc: 0.7815\n"
     ]
    }
   ],
   "source": [
    "fit = model.fit(x_train, y_train, batch_size=32, nb_epoch=30, verbose=1, callbacks = [stat_collect])"
   ]
  },
  {
   "cell_type": "code",
   "execution_count": 9,
   "metadata": {},
   "outputs": [],
   "source": [
    "def generate_csv(model, x_data, name):\n",
    "    ids = [i for i, _ in enumerate(x_data)]\n",
    "    ids = np.array(ids)\n",
    "    \n",
    "    predictions = model.predict(x_data).flatten()\n",
    "    \n",
    "    df = pd.DataFrame()\n",
    "    df['id'] = ids\n",
    "    df['target'] = predictions\n",
    "    df.to_csv(name + \".csv\", index=False)\n",
    "\n",
    "#     print df.head()\n",
    "\n",
    "x_actual_test = np.load(\"data/x_test.npy\")\n",
    "\n",
    "generate_csv(model, x_actual_test, \"submissions/third_test\")"
   ]
  },
  {
   "cell_type": "code",
   "execution_count": null,
   "metadata": {},
   "outputs": [],
   "source": []
  },
  {
   "cell_type": "code",
   "execution_count": 10,
   "metadata": {},
   "outputs": [
    {
     "data": {
      "image/png": "[encoded data removed]",
      "text/plain": [
       "<Figure size 432x288 with 1 Axes>"
      ]
     },
     "metadata": {
      "needs_background": "light"
     },
     "output_type": "display_data"
    },
    {
     "name": "stdout",
     "output_type": "stream",
     "text": [
      "Test AUCROC maximized at epoch = 23 with AUCROC = 0.7739676034723225\n"
     ]
    }
   ],
   "source": [
    "import matplotlib.pyplot as plt\n",
    "\n",
    "num_epoch = len(stat_collect.aucrocs_val)\n",
    "\n",
    "# Plot training & validation accuracy values\n",
    "plt.plot([x + 1 for x in range(num_epoch)], stat_collect.aucrocs_train, label=\"Train AUCROC\")\n",
    "plt.plot([x + 1 for x in range(num_epoch)], stat_collect.aucrocs_val, label=\"Test AUCROC\")\n",
    "\n",
    "\n",
    "\n",
    "plt.xlabel('Epochs')\n",
    "plt.ylabel('AUCROC')\n",
    "plt.title('Epochs vs. AUCROC')\n",
    "plt.legend(['Train', 'Test'], loc='upper left')\n",
    "plt.savefig(\"plots/neural_net_RENAME.png\")\n",
    "plt.show()\n",
    "print('Test AUCROC maximized at epoch = {} with AUCROC = {}'.format(np.argmax(stat_collect.aucrocs_val) + 1, stat_collect.aucrocs_val[np.argmax(stat_collect.aucrocs_val)]))\n"
   ]
  },
  {
   "cell_type": "code",
   "execution_count": null,
   "metadata": {},
   "outputs": [],
   "source": []
  }
 ],
 "metadata": {
  "kernelspec": {
   "display_name": "Python 3",
   "language": "python",
   "name": "python3"
  },
  "language_info": {
   "codemirror_mode": {
    "name": "ipython",
    "version": 3
   },
   "file_extension": ".py",
   "mimetype": "text/x-python",
   "name": "python",
   "nbconvert_exporter": "python",
   "pygments_lexer": "ipython3",
   "version": "3.6.4"
  }
 },
 "nbformat": 4,
 "nbformat_minor": 2
}
