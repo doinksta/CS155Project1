{
 "cells": [
  {
   "cell_type": "code",
   "execution_count": null,
   "metadata": {
    "collapsed": true
   },
   "outputs": [],
   "source": [
    "import numpy as np\n",
    "import pandas as pd\n",
    "from sklearn import preprocessing\n",
    "from sklearn.model_selection import train_test_split\n",
    "\n",
    "\n",
    "df = pd.read_csv(\"train_2008.csv\")\n",
    "new_df = df.copy()\n",
    "new_df = new_df.drop('id', 1)\n",
    "\n",
    "x = new_df.loc[:, new_df.columns != 'target'].values\n",
    "y = new_df['target'].values\n",
    "\n",
    "min_max_scaler = preprocessing.MinMaxScaler()\n",
    "x_scaled = min_max_scaler.fit_transform(x)\n",
    "\n",
    "np.save(\"data/x.npy\", x)\n",
    "np.save(\"data/y.npy\", y)\n",
    "\n",
    "np.save(\"data/x_normalized.npy\", x_scaled)\n",
    "\n",
    "\n",
    "\n",
    "df = pd.read_csv(\"train_2008.csv\")\n",
    "new_df = df.copy()\n",
    "new_df = new_df.drop('id', 1)\n",
    "\n",
    "x = new_df.loc[:, new_df.columns != 'target'].values\n",
    "y = new_df['target'].values\n",
    "\n",
    "min_max_scaler = preprocessing.MinMaxScaler()\n",
    "x_scaled = min_max_scaler.fit_transform(x)\n"
   ]
  }
 ],
 "metadata": {
  "kernelspec": {
   "display_name": "Python 2",
   "language": "python",
   "name": "python2"
  },
  "language_info": {
   "codemirror_mode": {
    "name": "ipython",
    "version": 2
   },
   "file_extension": ".py",
   "mimetype": "text/x-python",
   "name": "python",
   "nbconvert_exporter": "python",
   "pygments_lexer": "ipython2",
   "version": "2.7.15"
  }
 },
 "nbformat": 4,
 "nbformat_minor": 2
}
